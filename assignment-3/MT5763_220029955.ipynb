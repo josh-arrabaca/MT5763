{
 "cells": [
  {
   "cell_type": "raw",
   "id": "025ef483-b335-4a82-8a40-a5be02676469",
   "metadata": {
    "tags": []
   },
   "source": [
    "---\n",
    "title: |\n",
    "    Luxuriant: The Newest Treatment \\\n",
    "    Ready for the Hair Growth Market\n",
    "author: \"Joshua Arrabaca - 220029955\"\n",
    "date: today\n",
    "format:\n",
    "    html:\n",
    "        code-fold: true\n",
    "        number-sections: true\n",
    "    pdf:\n",
    "        number-sections: true\n",
    "        geometry:\n",
    "          - top=22mm\n",
    "          - left=22mm\n",
    "          - right=22mm\n",
    "          - bottom=22mm\n",
    "fontsize: small\n",
    "execute: \n",
    "    enabled: true\n",
    "    warning: false\n",
    "    echo: false\n",
    "---"
   ]
  },
  {
   "cell_type": "markdown",
   "id": "332f89a0-777b-4bb8-82de-c51d6e70cd02",
   "metadata": {
    "execution": {
     "iopub.execute_input": "2023-11-13T07:41:42.116518Z",
     "iopub.status.busy": "2023-11-13T07:41:42.115948Z",
     "iopub.status.idle": "2023-11-13T07:41:42.122479Z",
     "shell.execute_reply": "2023-11-13T07:41:42.121248Z",
     "shell.execute_reply.started": "2023-11-13T07:41:42.116465Z"
    },
    "tags": []
   },
   "source": [
    "# Abstract\n",
    "This paper demonstrates statistical analysis performed in Python on a dataset containing growth performance of 3 hair treatment brands, plus a Placebo.\n",
    "\n",
    "The analysis showed that age did not have an effect on hair growth, and that Luxuriant performed significantly well against the Placebo, with an average growth of 13.0mm. However, it was was outperformed by the established brands HairyGoodness and BaldBeGone.\n",
    "\n",
    "Still, Luxuriant's performance over the Placebo by 10.51mm indicates that it can be released to market, although future trials should separate placebo testing and existing treatment testing."
   ]
  },
  {
   "cell_type": "markdown",
   "id": "1e0ff2f0-d6e3-404e-b911-e69f3c5a5811",
   "metadata": {
    "tags": []
   },
   "source": [
    "# Introduction\n",
    "\n",
    "Analysis was conducted on hair growth and age data for four hair treatments: Luxuriant, a new product; HairyGoodness and BaldBeGone, both established brands; and a Placebo. The means and 95% confidence intervals were computed, and ANOVA and Ordinary Least Squares modeling performed to answer the questions:\n",
    "\n",
    "1. Is there an effect of Luxuriant above and beyond the placebo? \n",
    "2. Is Luxuriant more effective than the existing treatments on the market? \n",
    "3. Is age relevant to any effect?\n",
    "\n",
    "The results show that Luxuriant works significantly better than the Placebo, with an average growth of 13.0mm versus 2.49mm. However, HairyGoodness and BaldBeGone outperformed Luxuriant with averages of 36.15mm and 18.74mm respectively. Age was not found to have a significant effect."
   ]
  },
  {
   "cell_type": "raw",
   "id": "b28faf21-2579-4565-8d22-1d7cdc2b668d",
   "metadata": {},
   "source": [
    "\\clearpage"
   ]
  },
  {
   "cell_type": "markdown",
   "id": "1fd73c7c-950a-40f4-9997-3eb539ac7ec9",
   "metadata": {},
   "source": [
    "# Methods"
   ]
  },
  {
   "cell_type": "markdown",
   "id": "ed2e81a3-008f-4227-892f-340ea0b3ce4f",
   "metadata": {},
   "source": [
    "A dataset containing 100 rows of hair growth data was prepared in Python. Growth was converted from inches to millimeters (via `pandas.apply()` and a lambda function `x: x*25.4`), and age rounded off with `.round()`, and casted `.astype(int)`. This preliminary dataset (@tbl-converted-figures) was used for ANOVA and t-tests."
   ]
  },
  {
   "cell_type": "code",
   "execution_count": 1,
   "id": "10672078-e2a1-4875-a958-71505ea8a476",
   "metadata": {
    "execution": {
     "iopub.execute_input": "2023-11-17T07:57:30.134011Z",
     "iopub.status.busy": "2023-11-17T07:57:30.132812Z",
     "iopub.status.idle": "2023-11-17T07:57:31.679857Z",
     "shell.execute_reply": "2023-11-17T07:57:31.678620Z",
     "shell.execute_reply.started": "2023-11-17T07:57:30.133953Z"
    },
    "tags": []
   },
   "outputs": [],
   "source": [
    "# Load the required libraries and set the color palette for the graphs\n",
    "import numpy as np\n",
    "import pandas as pd\n",
    "from scipy.stats import f_oneway\n",
    "from scipy.stats import ttest_ind\n",
    "import seaborn as sns\n",
    "from scipy.stats import shapiro\n",
    "import statsmodels.formula.api as smf\n",
    "import statsmodels.stats.api as sms\n",
    "from statsmodels.graphics.gofplots import qqplot\n",
    "\n",
    "import warnings\n",
    "warnings.filterwarnings(\"ignore\")\n",
    "\n",
    "sns.set_theme(palette=\"colorblind\")"
   ]
  },
  {
   "cell_type": "code",
   "execution_count": 2,
   "id": "a5243ef0-1058-4fd8-af7e-c52b1e909482",
   "metadata": {
    "execution": {
     "iopub.execute_input": "2023-11-17T07:57:31.682178Z",
     "iopub.status.busy": "2023-11-17T07:57:31.681826Z",
     "iopub.status.idle": "2023-11-17T07:57:31.686547Z",
     "shell.execute_reply": "2023-11-17T07:57:31.685642Z",
     "shell.execute_reply.started": "2023-11-17T07:57:31.682151Z"
    },
    "tags": []
   },
   "outputs": [],
   "source": [
    "# PART 0 - DATA WRANGLING"
   ]
  },
  {
   "cell_type": "code",
   "execution_count": 3,
   "id": "70ba78fa-822c-47d8-b1b9-39c0b3ef3926",
   "metadata": {
    "execution": {
     "iopub.execute_input": "2023-11-17T07:57:31.687620Z",
     "iopub.status.busy": "2023-11-17T07:57:31.687375Z",
     "iopub.status.idle": "2023-11-17T07:57:31.709339Z",
     "shell.execute_reply": "2023-11-17T07:57:31.708266Z",
     "shell.execute_reply.started": "2023-11-17T07:57:31.687595Z"
    },
    "tags": []
   },
   "outputs": [],
   "source": [
    "# Load the unformatted dataset\n",
    "df = pd.read_csv(r\"data/HairGrowth.csv\")\n",
    "\n",
    "# Uncomment to view the head\n",
    "# df.head(5)"
   ]
  },
  {
   "cell_type": "code",
   "execution_count": 4,
   "id": "54b2f5e1-4f7a-44c6-953d-03a844ee0b35",
   "metadata": {
    "execution": {
     "iopub.execute_input": "2023-11-17T07:57:31.710561Z",
     "iopub.status.busy": "2023-11-17T07:57:31.710309Z",
     "iopub.status.idle": "2023-11-17T07:57:31.724821Z",
     "shell.execute_reply": "2023-11-17T07:57:31.723949Z",
     "shell.execute_reply.started": "2023-11-17T07:57:31.710535Z"
    },
    "tags": []
   },
   "outputs": [],
   "source": [
    "# Convert hair growth from inches to millimeter by applying a lambda function to multiply those column values by 25.4\n",
    "df[[\"Luxuriant\", \"Placebo\", \"BaldBeGone\", \"HairyGoodness\"]] = \\\n",
    "    df[[\"Luxuriant\", \"Placebo\", \"BaldBeGone\", \"HairyGoodness\"]].apply(lambda x: x * 25.4)"
   ]
  },
  {
   "cell_type": "code",
   "execution_count": 5,
   "id": "61dc78f0-fc7e-484d-8166-c1ab0e7fd7f1",
   "metadata": {
    "execution": {
     "iopub.execute_input": "2023-11-17T07:57:31.725971Z",
     "iopub.status.busy": "2023-11-17T07:57:31.725722Z",
     "iopub.status.idle": "2023-11-17T07:57:31.743869Z",
     "shell.execute_reply": "2023-11-17T07:57:31.742938Z",
     "shell.execute_reply.started": "2023-11-17T07:57:31.725945Z"
    }
   },
   "outputs": [],
   "source": [
    "# Round off the ages to whole years, and cast the values to type integer\n",
    "df[[\"AgeLuxuriant\", \"AgePlacebo\", \"AgeBaldBeGone\", \"AgeHairyGoodness\"]] = \\\n",
    "    df[[\"AgeLuxuriant\", \"AgePlacebo\", \"AgeBaldBeGone\", \"AgeHairyGoodness\"]].round().astype(int)\n",
    "df_head = df.head(5)\n",
    "\n",
    "# See appendix for the rendered table"
   ]
  },
  {
   "cell_type": "markdown",
   "id": "9334e2df-dd42-47ee-9644-abbfeca450dc",
   "metadata": {},
   "source": [
    "This was further tidied to have one row per participant with columns \"Brand\", \"Growth\" and \"Age\". Temporary datasets were created for each brand, then appended together with `pd.concat()`. The full dataset previewed in @tbl-tidy-dataframe has 400 rows and 3 columns, and was used for visualisations and OLS linear modeling."
   ]
  },
  {
   "cell_type": "code",
   "execution_count": 6,
   "id": "ba48c55f-266e-4dd2-bcc4-dbf39209a5ae",
   "metadata": {
    "execution": {
     "iopub.execute_input": "2023-11-17T07:57:31.745151Z",
     "iopub.status.busy": "2023-11-17T07:57:31.744891Z",
     "iopub.status.idle": "2023-11-17T07:57:31.759871Z",
     "shell.execute_reply": "2023-11-17T07:57:31.758916Z",
     "shell.execute_reply.started": "2023-11-17T07:57:31.745125Z"
    },
    "tags": []
   },
   "outputs": [],
   "source": [
    "# Create a series of dataframes with columns \"Brand\", \"Growth\", \"Age\"\n",
    "# These dataframes will be merged later on and used for easier visualisations\n",
    "\n",
    "# LUXURIANT BRAND\n",
    "df_Luxuriant = df[[\"Luxuriant\", \"AgeLuxuriant\"]]\n",
    "\n",
    "# Rename the columns\n",
    "df_Luxuriant = df_Luxuriant.rename(columns={\"Luxuriant\": \"Growth\",\n",
    "                                            \"AgeLuxuriant\": \"Age\"})\n",
    "\n",
    "# Add a new column for Brand set to 'Luxuriant'\n",
    "df_Luxuriant.insert(0, \"Brand\", \"Luxuriant\")"
   ]
  },
  {
   "cell_type": "code",
   "execution_count": 7,
   "id": "81648361-235f-43fd-9320-c0ebff2accaa",
   "metadata": {
    "execution": {
     "iopub.execute_input": "2023-11-17T07:57:31.763202Z",
     "iopub.status.busy": "2023-11-17T07:57:31.762799Z",
     "iopub.status.idle": "2023-11-17T07:57:31.778616Z",
     "shell.execute_reply": "2023-11-17T07:57:31.777602Z",
     "shell.execute_reply.started": "2023-11-17T07:57:31.763175Z"
    },
    "tags": []
   },
   "outputs": [],
   "source": [
    "# Do the same for other brands\n",
    "\n",
    "# PLACEBO \"BRAND\"\n",
    "\n",
    "# Create a dataframe for Placebo\n",
    "df_Placebo = df[[\"Placebo\", \"AgePlacebo\"]]\n",
    "\n",
    "# Rename the columns\n",
    "df_Placebo = df_Placebo.rename(columns={\"Placebo\": \"Growth\",\n",
    "                                        \"AgePlacebo\": \"Age\"})\n",
    "\n",
    "# Add a new column for Brand set to 'Placebo'\n",
    "df_Placebo.insert(0, \"Brand\", \"Placebo\")"
   ]
  },
  {
   "cell_type": "code",
   "execution_count": 8,
   "id": "8ae43ab3-ae65-4b51-b19f-0c1d5b6c42d6",
   "metadata": {
    "execution": {
     "iopub.execute_input": "2023-11-17T07:57:31.780160Z",
     "iopub.status.busy": "2023-11-17T07:57:31.779893Z",
     "iopub.status.idle": "2023-11-17T07:57:31.797965Z",
     "shell.execute_reply": "2023-11-17T07:57:31.796733Z",
     "shell.execute_reply.started": "2023-11-17T07:57:31.780133Z"
    },
    "tags": []
   },
   "outputs": [],
   "source": [
    "# BALDBEGONE BRAND\n",
    "\n",
    "# Create a dataframe for Placebo\n",
    "df_BaldBeGone = df[[\"BaldBeGone\", \"AgeBaldBeGone\"]]\n",
    "\n",
    "# Rename the columns\n",
    "df_BaldBeGone = df_BaldBeGone.rename(columns={\"BaldBeGone\": \"Growth\",\n",
    "                                              \"AgeBaldBeGone\": \"Age\"})\n",
    "\n",
    "# Add a new column for Brand set to 'Placebo'\n",
    "df_BaldBeGone.insert(0, \"Brand\", \"BaldBeGone\")"
   ]
  },
  {
   "cell_type": "code",
   "execution_count": 9,
   "id": "b80681a7-c479-4ccb-a483-c896741ee259",
   "metadata": {
    "execution": {
     "iopub.execute_input": "2023-11-17T07:57:31.799541Z",
     "iopub.status.busy": "2023-11-17T07:57:31.799270Z",
     "iopub.status.idle": "2023-11-17T07:57:31.817586Z",
     "shell.execute_reply": "2023-11-17T07:57:31.816395Z",
     "shell.execute_reply.started": "2023-11-17T07:57:31.799513Z"
    },
    "tags": []
   },
   "outputs": [],
   "source": [
    "# HAIRYGOODNESS BRAND\n",
    "\n",
    "# Create a dataframe for HairyGoodness\n",
    "df_HairyGoodness = df[[\"HairyGoodness\", \"AgeHairyGoodness\"]]\n",
    "\n",
    "# Rename the columns\n",
    "df_HairyGoodness = df_HairyGoodness.rename(columns={\"HairyGoodness\": \"Growth\",\n",
    "                                                    \"AgeHairyGoodness\": \"Age\"})\n",
    "\n",
    "# Add a new column for Brand set to 'HairyGoodness'\n",
    "df_HairyGoodness.insert(0, \"Brand\", \"HairyGoodness\")"
   ]
  },
  {
   "cell_type": "code",
   "execution_count": 10,
   "id": "d560a751-1fcb-4196-a53b-347f13e4bcd0",
   "metadata": {
    "execution": {
     "iopub.execute_input": "2023-11-17T07:57:31.819208Z",
     "iopub.status.busy": "2023-11-17T07:57:31.818913Z",
     "iopub.status.idle": "2023-11-17T07:57:31.924106Z",
     "shell.execute_reply": "2023-11-17T07:57:31.923021Z",
     "shell.execute_reply.started": "2023-11-17T07:57:31.819179Z"
    },
    "tags": []
   },
   "outputs": [
    {
     "data": {
      "text/html": [
       "<style type=\"text/css\">\n",
       "</style>\n",
       "<table id=\"T_7b26e\">\n",
       "  <caption>Head of Tidy Dataframe</caption>\n",
       "  <thead>\n",
       "    <tr>\n",
       "      <th class=\"blank level0\" >&nbsp;</th>\n",
       "      <th id=\"T_7b26e_level0_col0\" class=\"col_heading level0 col0\" >Brand</th>\n",
       "      <th id=\"T_7b26e_level0_col1\" class=\"col_heading level0 col1\" >Growth</th>\n",
       "      <th id=\"T_7b26e_level0_col2\" class=\"col_heading level0 col2\" >Age</th>\n",
       "    </tr>\n",
       "  </thead>\n",
       "  <tbody>\n",
       "    <tr>\n",
       "      <th id=\"T_7b26e_level0_row0\" class=\"row_heading level0 row0\" >0</th>\n",
       "      <td id=\"T_7b26e_row0_col0\" class=\"data row0 col0\" >Luxuriant</td>\n",
       "      <td id=\"T_7b26e_row0_col1\" class=\"data row0 col1\" >20.122736</td>\n",
       "      <td id=\"T_7b26e_row0_col2\" class=\"data row0 col2\" >59</td>\n",
       "    </tr>\n",
       "    <tr>\n",
       "      <th id=\"T_7b26e_level0_row1\" class=\"row_heading level0 row1\" >1</th>\n",
       "      <td id=\"T_7b26e_row1_col0\" class=\"data row1 col0\" >Luxuriant</td>\n",
       "      <td id=\"T_7b26e_row1_col1\" class=\"data row1 col1\" >15.377107</td>\n",
       "      <td id=\"T_7b26e_row1_col2\" class=\"data row1 col2\" >61</td>\n",
       "    </tr>\n",
       "    <tr>\n",
       "      <th id=\"T_7b26e_level0_row2\" class=\"row_heading level0 row2\" >2</th>\n",
       "      <td id=\"T_7b26e_row2_col0\" class=\"data row2 col0\" >Luxuriant</td>\n",
       "      <td id=\"T_7b26e_row2_col1\" class=\"data row2 col1\" >17.638841</td>\n",
       "      <td id=\"T_7b26e_row2_col2\" class=\"data row2 col2\" >54</td>\n",
       "    </tr>\n",
       "    <tr>\n",
       "      <th id=\"T_7b26e_level0_row3\" class=\"row_heading level0 row3\" >3</th>\n",
       "      <td id=\"T_7b26e_row3_col0\" class=\"data row3 col0\" >Luxuriant</td>\n",
       "      <td id=\"T_7b26e_row3_col1\" class=\"data row3 col1\" >1.379751</td>\n",
       "      <td id=\"T_7b26e_row3_col2\" class=\"data row3 col2\" >63</td>\n",
       "    </tr>\n",
       "    <tr>\n",
       "      <th id=\"T_7b26e_level0_row4\" class=\"row_heading level0 row4\" >4</th>\n",
       "      <td id=\"T_7b26e_row4_col0\" class=\"data row4 col0\" >Luxuriant</td>\n",
       "      <td id=\"T_7b26e_row4_col1\" class=\"data row4 col1\" >37.558535</td>\n",
       "      <td id=\"T_7b26e_row4_col2\" class=\"data row4 col2\" >50</td>\n",
       "    </tr>\n",
       "  </tbody>\n",
       "</table>\n"
      ],
      "text/plain": [
       "<pandas.io.formats.style.Styler at 0x7f5ff4553910>"
      ]
     },
     "execution_count": 10,
     "metadata": {},
     "output_type": "execute_result"
    }
   ],
   "source": [
    "#| label: tbl-tidy-dataframe\n",
    "#| tbl-cap: \"Head of Tidy Dataframe\"\n",
    "\n",
    "# Set the table title\n",
    "title = \"Head of Tidy Dataframe\" \n",
    "\n",
    "# Concatenating all dataframes...\n",
    "df2 = pd.concat([df_Luxuriant,\n",
    "                 df_Placebo,\n",
    "                 df_BaldBeGone,\n",
    "                 df_HairyGoodness]).\\\n",
    "                    reset_index(drop=True)\n",
    "\n",
    "# ... and preview new dataframe\n",
    "df2.style.set_caption(\"Hello World\")\n",
    "df2_head = df2.head(5)\n",
    "df2_head.style.set_caption(title)"
   ]
  },
  {
   "cell_type": "code",
   "execution_count": 11,
   "id": "3c91c949-91e4-47ba-9ce4-babde539f14b",
   "metadata": {
    "execution": {
     "iopub.execute_input": "2023-11-17T07:57:31.925557Z",
     "iopub.status.busy": "2023-11-17T07:57:31.925209Z",
     "iopub.status.idle": "2023-11-17T07:57:31.929720Z",
     "shell.execute_reply": "2023-11-17T07:57:31.928644Z",
     "shell.execute_reply.started": "2023-11-17T07:57:31.925528Z"
    },
    "tags": []
   },
   "outputs": [],
   "source": [
    "# Check the shape of the tidy dataframe (it should be 400 x 3)\n",
    "\n",
    "# Uncomment to view\n",
    "# print (\"Shape of df2 dataframe:\", (df2.shape))"
   ]
  },
  {
   "cell_type": "markdown",
   "id": "093aedcb-d1f9-4996-b2e9-8d3c8affe575",
   "metadata": {},
   "source": [
    "Plots were created using `sns.scatterplot`, `.boxplot` and `.histplot` with the parameter `(hue=brand)` to visualise the groupings.\n",
    "\n",
    "To determine differences between groups, the means were calculated along with 95% confidence intervals using `statsmodels.stats.api`. ANOVA tests were also conducted for all brands, while t-tests were conducted between Luxuriant and Placebo using `scipy.stats`. Participants' age was checked first (i.e., if they had the same age, then it's suitable to compare their hair growth).\n",
    "\n",
    "To determine if age was relevant, a linear model was created using `statsmodels.formula.api`, and the p-values were evaluated.\n",
    "\n",
    "For this analysis, the following are assumed: the samples are independent; the samples come from a normally distributed population; and the standard deviations are the same (Heumann et al., 2022)."
   ]
  },
  {
   "cell_type": "raw",
   "id": "d386f870-a1b2-4be2-ae65-ff1c2b503652",
   "metadata": {},
   "source": [
    "\\clearpage"
   ]
  },
  {
   "cell_type": "markdown",
   "id": "4279a1eb-222f-4be5-aeca-d9eb88e566ee",
   "metadata": {
    "execution": {
     "iopub.execute_input": "2023-11-14T10:21:55.959831Z",
     "iopub.status.busy": "2023-11-14T10:21:55.959221Z",
     "iopub.status.idle": "2023-11-14T10:21:55.965624Z",
     "shell.execute_reply": "2023-11-14T10:21:55.964540Z",
     "shell.execute_reply.started": "2023-11-14T10:21:55.959778Z"
    },
    "tags": []
   },
   "source": [
    "# Results"
   ]
  },
  {
   "cell_type": "code",
   "execution_count": 12,
   "id": "56eea8eb-0095-47a2-88a5-98b0549778b3",
   "metadata": {
    "execution": {
     "iopub.execute_input": "2023-11-17T07:57:31.931036Z",
     "iopub.status.busy": "2023-11-17T07:57:31.930778Z",
     "iopub.status.idle": "2023-11-17T07:57:31.946323Z",
     "shell.execute_reply": "2023-11-17T07:57:31.945313Z",
     "shell.execute_reply.started": "2023-11-17T07:57:31.931010Z"
    },
    "tags": []
   },
   "outputs": [],
   "source": [
    "#1 - EXPLORATORY DATA ANALYSIS"
   ]
  },
  {
   "cell_type": "code",
   "execution_count": 13,
   "id": "a1416bd9-7d79-4732-b33a-9720ff5a47e0",
   "metadata": {
    "execution": {
     "iopub.execute_input": "2023-11-17T07:57:31.947789Z",
     "iopub.status.busy": "2023-11-17T07:57:31.947522Z",
     "iopub.status.idle": "2023-11-17T07:57:32.449989Z",
     "shell.execute_reply": "2023-11-17T07:57:32.449082Z",
     "shell.execute_reply.started": "2023-11-17T07:57:31.947762Z"
    },
    "tags": []
   },
   "outputs": [
    {
     "data": {
      "image/png": "[encoded data removed]",
      "text/plain": [
       "<Figure size 800x800 with 1 Axes>"
      ]
     },
     "metadata": {},
     "output_type": "display_data"
    }
   ],
   "source": [
    "#| label: fig-scatterplot\n",
    "#| fig-cap: \"Scatter Plot of Age vs Hair Growth\"\n",
    "\n",
    "# Set the plot title\n",
    "title = \"Scatter Plot of Age vs Hair Growth (by Brand)\"\n",
    "\n",
    "# Resize the plot\n",
    "sns.set(rc={\"figure.figsize\":(8, 8)}) \n",
    "\n",
    "# Create and render the plot\n",
    "age_hair_scatterplot = sns.scatterplot(data=df2, \n",
    "                x=\"Age\",\n",
    "                y=\"Growth\",\n",
    "                style=\"Brand\",\n",
    "                hue=\"Brand\",\n",
    "                s=80)"
   ]
  },
  {
   "cell_type": "markdown",
   "id": "c4577572-0aaf-412d-ad19-31809ef6b81a",
   "metadata": {
    "tags": []
   },
   "source": [
    "A visual assessment in @fig-scatterplot does not show any particular pattern for age vs growth. However, the groupings show that Placebo had the lowest effect on growth at up to 20mm, and BaldBeGone had the highest from 20mm to above 60mm. Luxuriant performed averagely from 20mm to 40mm."
   ]
  },
  {
   "cell_type": "raw",
   "id": "07374a07-3ebf-49a6-8325-21b98c09e44f",
   "metadata": {},
   "source": [
    "\\clearpage"
   ]
  },
  {
   "cell_type": "markdown",
   "id": "2f21b41d-c1d3-421d-99e0-d8ca4161f89f",
   "metadata": {},
   "source": [
    "The mean ages were compared in @fig-box-age and showed similar quantiles (i.e., the 25$^{th}$ to 75$^{th}$ quantiles cover ages 45 to 55). @tbl-mean-age shows the mean age is around 50, and the 95% confidence intervals in @tbl-ci-age exhibit overlapping ranges (from  49 to 51). @fig-hist-age (in the Appendix) shows similar results."
   ]
  },
  {
   "cell_type": "markdown",
   "id": "e89da0d6-71a6-4cca-b914-ac83df8f0b0a",
   "metadata": {},
   "source": [
    "The visualisations, similar mean ages and overlapping confidence intervals show that group ages are not statistically different. This makes it suitable to compare hair growth between groups."
   ]
  },
  {
   "cell_type": "code",
   "execution_count": 14,
   "id": "df655ce4-33bd-4b88-bab0-99645d6566c1",
   "metadata": {
    "execution": {
     "iopub.execute_input": "2023-11-17T07:57:32.451301Z",
     "iopub.status.busy": "2023-11-17T07:57:32.451035Z",
     "iopub.status.idle": "2023-11-17T07:57:32.696813Z",
     "shell.execute_reply": "2023-11-17T07:57:32.695883Z",
     "shell.execute_reply.started": "2023-11-17T07:57:32.451274Z"
    },
    "tags": []
   },
   "outputs": [
    {
     "data": {
      "image/png": "[encoded data removed]",
      "text/plain": [
       "<Figure size 700x400 with 1 Axes>"
      ]
     },
     "metadata": {},
     "output_type": "display_data"
    }
   ],
   "source": [
    "#| label: fig-box-age\n",
    "#| fig-cap: \"Box Plot of Participants' Age\"\n",
    "\n",
    "# Set the plot title\n",
    "title = \"Box Plot of Participants' Age by Brand\"\n",
    "\n",
    "# Resize this plot (and all plots moving forward)\n",
    "sns.set(rc={\"figure.figsize\":(7, 4)}) \n",
    "\n",
    "# Create and render the plot\n",
    "age_boxplot = sns.boxplot(data=df2,\n",
    "                          x=\"Brand\",\n",
    "                          y=\"Age\")"
   ]
  },
  {
   "cell_type": "raw",
   "id": "39446793-a8ab-4aba-8585-adbcd6963ddc",
   "metadata": {},
   "source": [
    "::: {layout-ncol=2}"
   ]
  },
  {
   "cell_type": "code",
   "execution_count": 15,
   "id": "ed2d0c8e-8224-4620-a34b-8914eff3912e",
   "metadata": {
    "execution": {
     "iopub.execute_input": "2023-11-17T07:57:32.698253Z",
     "iopub.status.busy": "2023-11-17T07:57:32.697885Z",
     "iopub.status.idle": "2023-11-17T07:57:32.711349Z",
     "shell.execute_reply": "2023-11-17T07:57:32.710514Z",
     "shell.execute_reply.started": "2023-11-17T07:57:32.698224Z"
    },
    "tags": []
   },
   "outputs": [
    {
     "data": {
      "text/html": [
       "<style type=\"text/css\">\n",
       "</style>\n",
       "<table id=\"T_b49fd\">\n",
       "  <caption>Mean Age by Brand</caption>\n",
       "  <thead>\n",
       "    <tr>\n",
       "      <th class=\"blank level0\" >&nbsp;</th>\n",
       "      <th id=\"T_b49fd_level0_col0\" class=\"col_heading level0 col0\" >Age</th>\n",
       "    </tr>\n",
       "    <tr>\n",
       "      <th class=\"index_name level0\" >Brand</th>\n",
       "      <th class=\"blank col0\" >&nbsp;</th>\n",
       "    </tr>\n",
       "  </thead>\n",
       "  <tbody>\n",
       "    <tr>\n",
       "      <th id=\"T_b49fd_level0_row0\" class=\"row_heading level0 row0\" >Luxuriant</th>\n",
       "      <td id=\"T_b49fd_row0_col0\" class=\"data row0 col0\" >50.29</td>\n",
       "    </tr>\n",
       "    <tr>\n",
       "      <th id=\"T_b49fd_level0_row1\" class=\"row_heading level0 row1\" >Placebo</th>\n",
       "      <td id=\"T_b49fd_row1_col0\" class=\"data row1 col0\" >50.96</td>\n",
       "    </tr>\n",
       "    <tr>\n",
       "      <th id=\"T_b49fd_level0_row2\" class=\"row_heading level0 row2\" >BaldBeGone</th>\n",
       "      <td id=\"T_b49fd_row2_col0\" class=\"data row2 col0\" >50.93</td>\n",
       "    </tr>\n",
       "    <tr>\n",
       "      <th id=\"T_b49fd_level0_row3\" class=\"row_heading level0 row3\" >HairyGoodness</th>\n",
       "      <td id=\"T_b49fd_row3_col0\" class=\"data row3 col0\" >49.73</td>\n",
       "    </tr>\n",
       "  </tbody>\n",
       "</table>\n"
      ],
      "text/plain": [
       "<pandas.io.formats.style.Styler at 0x7f5fea48e740>"
      ]
     },
     "execution_count": 15,
     "metadata": {},
     "output_type": "execute_result"
    }
   ],
   "source": [
    "#| label: tbl-mean-age\n",
    "#| tbl-cap: \"Mean Age by Brand\"\n",
    "\n",
    "title = \"Mean Age by Brand\"\n",
    "\n",
    "# Get the means for Age and Growth by group\n",
    "tbl_means = df2.groupby([\"Brand\"])[\"Age\",].mean().round(2).applymap(str).reindex([\"Luxuriant\", \"Placebo\", \"BaldBeGone\", \"HairyGoodness\"])\n",
    "\n",
    "# tbl_means\n",
    "tbl_means.style.set_caption(title)"
   ]
  },
  {
   "cell_type": "code",
   "execution_count": 16,
   "id": "b4c04658-7e09-4ed5-8747-7d3d0a53e096",
   "metadata": {
    "execution": {
     "iopub.execute_input": "2023-11-17T07:57:32.712369Z",
     "iopub.status.busy": "2023-11-17T07:57:32.712152Z",
     "iopub.status.idle": "2023-11-17T07:57:32.737385Z",
     "shell.execute_reply": "2023-11-17T07:57:32.736383Z",
     "shell.execute_reply.started": "2023-11-17T07:57:32.712346Z"
    },
    "tags": []
   },
   "outputs": [
    {
     "data": {
      "text/html": [
       "<style type=\"text/css\">\n",
       "</style>\n",
       "<table id=\"T_7354e\">\n",
       "  <caption>95% Confidence Intervals for Age</caption>\n",
       "  <thead>\n",
       "    <tr>\n",
       "      <th class=\"blank level0\" >&nbsp;</th>\n",
       "      <th id=\"T_7354e_level0_col0\" class=\"col_heading level0 col0\" >Lower Bound</th>\n",
       "      <th id=\"T_7354e_level0_col1\" class=\"col_heading level0 col1\" >Upper Bound</th>\n",
       "    </tr>\n",
       "    <tr>\n",
       "      <th class=\"index_name level0\" >Names</th>\n",
       "      <th class=\"blank col0\" >&nbsp;</th>\n",
       "      <th class=\"blank col1\" >&nbsp;</th>\n",
       "    </tr>\n",
       "  </thead>\n",
       "  <tbody>\n",
       "    <tr>\n",
       "      <th id=\"T_7354e_level0_row0\" class=\"row_heading level0 row0\" >Luxuriant</th>\n",
       "      <td id=\"T_7354e_row0_col0\" class=\"data row0 col0\" >48.78</td>\n",
       "      <td id=\"T_7354e_row0_col1\" class=\"data row0 col1\" >51.8</td>\n",
       "    </tr>\n",
       "    <tr>\n",
       "      <th id=\"T_7354e_level0_row1\" class=\"row_heading level0 row1\" >Placebo</th>\n",
       "      <td id=\"T_7354e_row1_col0\" class=\"data row1 col0\" >49.64</td>\n",
       "      <td id=\"T_7354e_row1_col1\" class=\"data row1 col1\" >52.28</td>\n",
       "    </tr>\n",
       "    <tr>\n",
       "      <th id=\"T_7354e_level0_row2\" class=\"row_heading level0 row2\" >BaldBeGone</th>\n",
       "      <td id=\"T_7354e_row2_col0\" class=\"data row2 col0\" >49.6</td>\n",
       "      <td id=\"T_7354e_row2_col1\" class=\"data row2 col1\" >52.26</td>\n",
       "    </tr>\n",
       "    <tr>\n",
       "      <th id=\"T_7354e_level0_row3\" class=\"row_heading level0 row3\" >HairyGoodness</th>\n",
       "      <td id=\"T_7354e_row3_col0\" class=\"data row3 col0\" >48.45</td>\n",
       "      <td id=\"T_7354e_row3_col1\" class=\"data row3 col1\" >51.01</td>\n",
       "    </tr>\n",
       "  </tbody>\n",
       "</table>\n"
      ],
      "text/plain": [
       "<pandas.io.formats.style.Styler at 0x7f5fea48dc90>"
      ]
     },
     "execution_count": 16,
     "metadata": {},
     "output_type": "execute_result"
    }
   ],
   "source": [
    "#| label: tbl-ci-age\n",
    "#| tbl-cap: \"95% Confidence Intervals for Age\"\n",
    "\n",
    "# Get the upper and lower confidence interval values for Age\n",
    "\n",
    "# Luxuriant\n",
    "age_l = list(sms.DescrStatsW(df[\"AgeLuxuriant\"]).tconfint_mean())\n",
    "age_l.insert(0, \"Luxuriant\")\n",
    "\n",
    "# Placebo\n",
    "age_p = list(sms.DescrStatsW(df[\"AgePlacebo\"]).tconfint_mean())\n",
    "age_p.insert(0, \"Placebo\")\n",
    "\n",
    "# BaldBeGone\n",
    "age_b = list(sms.DescrStatsW(df[\"AgeBaldBeGone\"]).tconfint_mean())\n",
    "age_b.insert(0, \"BaldBeGone\")\n",
    "\n",
    "# HairyGoodness\n",
    "age_h = list(sms.DescrStatsW(df[\"AgeHairyGoodness\"]).tconfint_mean())\n",
    "age_h.insert(0, \"HairyGoodness\")\n",
    "\n",
    "# Concatenate the CIs per brand into one dataframe\n",
    "title = \"95% Confidence Intervals for Age\"\n",
    "ci_age_data = [age_l, age_p, age_b, age_h]\n",
    "ci_age_df = pd.DataFrame(ci_age_data, columns = [\"Names\", \"Lower Bound\", \"Upper Bound\"]).round(2).applymap(str).set_index([\"Names\"])\n",
    "ci_age_df.style.set_caption(title)"
   ]
  },
  {
   "cell_type": "raw",
   "id": "cf8e2847-81d2-4c09-91b4-3a03d238f685",
   "metadata": {
    "execution": {
     "iopub.execute_input": "2023-11-14T10:19:28.679487Z",
     "iopub.status.busy": "2023-11-14T10:19:28.679061Z",
     "iopub.status.idle": "2023-11-14T10:19:28.687118Z",
     "shell.execute_reply": "2023-11-14T10:19:28.685676Z",
     "shell.execute_reply.started": "2023-11-14T10:19:28.679454Z"
    },
    "tags": []
   },
   "source": [
    ":::"
   ]
  },
  {
   "cell_type": "raw",
   "id": "610cacfc-0739-416f-915d-5d23b96ec741",
   "metadata": {},
   "source": [
    "\\clearpage"
   ]
  },
  {
   "cell_type": "markdown",
   "id": "8881e778-5e36-4fcd-b90e-d680c4d36929",
   "metadata": {},
   "source": [
    "@tbl-mean-growth shows varying average hair growth by brand, with Placebo having the smallest growth at 2.49mm and BaldBeGone the highest at 36.15mm. The boxplot in @fig-box-growth also shows the 50$^{th}$ quantitles are different for all groups, with Luxuriant outperforming Placebo which has the lowest and narrowest growth, although BaldBeGone has the widest range. @fig-hist-growth histogram also shows different distributions."
   ]
  },
  {
   "cell_type": "markdown",
   "id": "a0863b4b-7fad-42e9-85f6-1d980b810805",
   "metadata": {},
   "source": [
    "The Confidence Intervals in @tbl-ci-growth show no overlaps between any group for hair growth. All these strongly suggest that there is a significant difference in growth among brands."
   ]
  },
  {
   "cell_type": "code",
   "execution_count": 17,
   "id": "a0407743-f97a-4a4c-bd76-67e17175d9af",
   "metadata": {
    "execution": {
     "iopub.execute_input": "2023-11-17T07:57:32.738517Z",
     "iopub.status.busy": "2023-11-17T07:57:32.738285Z",
     "iopub.status.idle": "2023-11-17T07:57:33.019425Z",
     "shell.execute_reply": "2023-11-17T07:57:33.018352Z",
     "shell.execute_reply.started": "2023-11-17T07:57:32.738494Z"
    },
    "tags": []
   },
   "outputs": [
    {
     "data": {
      "image/png": "[encoded data removed]",
      "text/plain": [
       "<Figure size 700x400 with 1 Axes>"
      ]
     },
     "metadata": {},
     "output_type": "display_data"
    }
   ],
   "source": [
    "#| label: fig-box-growth\n",
    "#| fig-cap: \"Box Plot of Average Hair Growth\"\n",
    "\n",
    "# Box Plot of average growth per brand\n",
    "\n",
    "# Set the plot title\n",
    "title = \"Box Plot of Average Hair Growth by Brand\"\n",
    "\n",
    "# Create and render the plot\n",
    "avg_growth_boxplot = sns.boxplot(data=df2,\n",
    "                                 x=\"Brand\",\n",
    "                                 y=\"Growth\")"
   ]
  },
  {
   "cell_type": "raw",
   "id": "a15e0ef1-25fe-462f-b645-90390bb28a74",
   "metadata": {},
   "source": [
    "::: {layout-ncol=2}"
   ]
  },
  {
   "cell_type": "code",
   "execution_count": 18,
   "id": "8107cf20-7a36-4840-b812-a77a3926b647",
   "metadata": {
    "execution": {
     "iopub.execute_input": "2023-11-17T07:57:33.020513Z",
     "iopub.status.busy": "2023-11-17T07:57:33.020263Z",
     "iopub.status.idle": "2023-11-17T07:57:33.034604Z",
     "shell.execute_reply": "2023-11-17T07:57:33.033590Z",
     "shell.execute_reply.started": "2023-11-17T07:57:33.020486Z"
    },
    "tags": []
   },
   "outputs": [
    {
     "data": {
      "text/html": [
       "<style type=\"text/css\">\n",
       "</style>\n",
       "<table id=\"T_c6e50\">\n",
       "  <caption>Means of Hair Growth by Brand</caption>\n",
       "  <thead>\n",
       "    <tr>\n",
       "      <th class=\"blank level0\" >&nbsp;</th>\n",
       "      <th id=\"T_c6e50_level0_col0\" class=\"col_heading level0 col0\" >Growth</th>\n",
       "    </tr>\n",
       "    <tr>\n",
       "      <th class=\"index_name level0\" >Brand</th>\n",
       "      <th class=\"blank col0\" >&nbsp;</th>\n",
       "    </tr>\n",
       "  </thead>\n",
       "  <tbody>\n",
       "    <tr>\n",
       "      <th id=\"T_c6e50_level0_row0\" class=\"row_heading level0 row0\" >Luxuriant</th>\n",
       "      <td id=\"T_c6e50_row0_col0\" class=\"data row0 col0\" >13.0</td>\n",
       "    </tr>\n",
       "    <tr>\n",
       "      <th id=\"T_c6e50_level0_row1\" class=\"row_heading level0 row1\" >Placebo</th>\n",
       "      <td id=\"T_c6e50_row1_col0\" class=\"data row1 col0\" >2.49</td>\n",
       "    </tr>\n",
       "    <tr>\n",
       "      <th id=\"T_c6e50_level0_row2\" class=\"row_heading level0 row2\" >BaldBeGone</th>\n",
       "      <td id=\"T_c6e50_row2_col0\" class=\"data row2 col0\" >36.15</td>\n",
       "    </tr>\n",
       "    <tr>\n",
       "      <th id=\"T_c6e50_level0_row3\" class=\"row_heading level0 row3\" >HairyGoodness</th>\n",
       "      <td id=\"T_c6e50_row3_col0\" class=\"data row3 col0\" >18.74</td>\n",
       "    </tr>\n",
       "  </tbody>\n",
       "</table>\n"
      ],
      "text/plain": [
       "<pandas.io.formats.style.Styler at 0x7f5fea3530a0>"
      ]
     },
     "execution_count": 18,
     "metadata": {},
     "output_type": "execute_result"
    }
   ],
   "source": [
    "#| label: tbl-mean-growth\n",
    "#| tbl-cap: \"Means Hair Growth by Brand\"\n",
    "\n",
    "title = \"Means of Hair Growth by Brand\"\n",
    "# Get the means for Age and Growth by group\n",
    "tbl_means = df2.groupby([\"Brand\"])[\"Growth\",].mean().round(2).applymap(str).reindex([\"Luxuriant\", \"Placebo\", \"BaldBeGone\", \"HairyGoodness\"])\n",
    "tbl_means.style.set_caption(title)\n",
    "#.set_table_styles(styles)"
   ]
  },
  {
   "cell_type": "code",
   "execution_count": 19,
   "id": "7cab0cf6-cbea-43b9-a0d6-69ad37aade89",
   "metadata": {
    "execution": {
     "iopub.execute_input": "2023-11-17T07:57:33.036321Z",
     "iopub.status.busy": "2023-11-17T07:57:33.035949Z",
     "iopub.status.idle": "2023-11-17T07:57:33.065800Z",
     "shell.execute_reply": "2023-11-17T07:57:33.064715Z",
     "shell.execute_reply.started": "2023-11-17T07:57:33.036283Z"
    },
    "tags": []
   },
   "outputs": [
    {
     "data": {
      "text/html": [
       "<style type=\"text/css\">\n",
       "</style>\n",
       "<table id=\"T_1f23d\">\n",
       "  <caption>Table 5: 95% Confidence Intervals for Growth</caption>\n",
       "  <thead>\n",
       "    <tr>\n",
       "      <th class=\"blank level0\" >&nbsp;</th>\n",
       "      <th id=\"T_1f23d_level0_col0\" class=\"col_heading level0 col0\" >Lower Bound</th>\n",
       "      <th id=\"T_1f23d_level0_col1\" class=\"col_heading level0 col1\" >Upper Bound</th>\n",
       "    </tr>\n",
       "    <tr>\n",
       "      <th class=\"index_name level0\" >Names</th>\n",
       "      <th class=\"blank col0\" >&nbsp;</th>\n",
       "      <th class=\"blank col1\" >&nbsp;</th>\n",
       "    </tr>\n",
       "  </thead>\n",
       "  <tbody>\n",
       "    <tr>\n",
       "      <th id=\"T_1f23d_level0_row0\" class=\"row_heading level0 row0\" >Luxuriant</th>\n",
       "      <td id=\"T_1f23d_row0_col0\" class=\"data row0 col0\" >11.51</td>\n",
       "      <td id=\"T_1f23d_row0_col1\" class=\"data row0 col1\" >14.49</td>\n",
       "    </tr>\n",
       "    <tr>\n",
       "      <th id=\"T_1f23d_level0_row1\" class=\"row_heading level0 row1\" >Placebo</th>\n",
       "      <td id=\"T_1f23d_row1_col0\" class=\"data row1 col0\" >2.01</td>\n",
       "      <td id=\"T_1f23d_row1_col1\" class=\"data row1 col1\" >2.96</td>\n",
       "    </tr>\n",
       "    <tr>\n",
       "      <th id=\"T_1f23d_level0_row2\" class=\"row_heading level0 row2\" >BaldBeGone</th>\n",
       "      <td id=\"T_1f23d_row2_col0\" class=\"data row2 col0\" >32.23</td>\n",
       "      <td id=\"T_1f23d_row2_col1\" class=\"data row2 col1\" >40.07</td>\n",
       "    </tr>\n",
       "    <tr>\n",
       "      <th id=\"T_1f23d_level0_row3\" class=\"row_heading level0 row3\" >HairyGoodness</th>\n",
       "      <td id=\"T_1f23d_row3_col0\" class=\"data row3 col0\" >16.55</td>\n",
       "      <td id=\"T_1f23d_row3_col1\" class=\"data row3 col1\" >20.93</td>\n",
       "    </tr>\n",
       "  </tbody>\n",
       "</table>\n"
      ],
      "text/plain": [
       "<pandas.io.formats.style.Styler at 0x7f5fea373eb0>"
      ]
     },
     "execution_count": 19,
     "metadata": {},
     "output_type": "execute_result"
    }
   ],
   "source": [
    "#| label: tbl-ci-growth\n",
    "#| tbl-cap: \"95% Confidence Intervals for Growth\"\n",
    "\n",
    "# Get the upper and lower confidence interval values for Growth\n",
    "\n",
    "# Luxuriant\n",
    "growth_l = list(sms.DescrStatsW(df[\"Luxuriant\"]).tconfint_mean())\n",
    "growth_l.insert(0, \"Luxuriant\")\n",
    "\n",
    "# Placebo\n",
    "growth_p = list(sms.DescrStatsW(df[\"Placebo\"]).tconfint_mean())\n",
    "growth_p.insert(0, \"Placebo\")\n",
    "\n",
    "# BaldBeGone\n",
    "growth_b = list(sms.DescrStatsW(df[\"BaldBeGone\"]).tconfint_mean())\n",
    "growth_b.insert(0, \"BaldBeGone\")\n",
    "\n",
    "# HairyGoodness\n",
    "growth_h = list(sms.DescrStatsW(df[\"HairyGoodness\"]).tconfint_mean())\n",
    "growth_h.insert(0, \"HairyGoodness\")\n",
    "\n",
    "# Concatenate all the CIs into one dataframe\n",
    "title = \"Table 5: 95% Confidence Intervals for Growth\"\n",
    "ci_growth_data = [growth_l, growth_p, growth_b, growth_h]\n",
    "ci_growth_df = pd.DataFrame(ci_growth_data, columns = [\"Names\", \"Lower Bound\", \"Upper Bound\"]).set_index([\"Names\"]).round(2).applymap(str)\n",
    "ci_growth_df.style.set_caption(title)"
   ]
  },
  {
   "cell_type": "raw",
   "id": "9dd22ce2-7970-4ae1-860f-ad4b0be35499",
   "metadata": {},
   "source": [
    ":::"
   ]
  },
  {
   "cell_type": "raw",
   "id": "c3da260b-2480-4ac2-b4b3-0ff48601121e",
   "metadata": {},
   "source": [
    "\\clearpage"
   ]
  },
  {
   "cell_type": "markdown",
   "id": "9513f8c5-5f1a-4f56-a9ec-32f12445fae5",
   "metadata": {},
   "source": [
    "To verify the null hypothesis ($H_{0}$: There is no difference in growth between groups), @tbl-anova shows that growth has a significant p-value of almost zero (unlike age which is not significant at the 0.1 level)."
   ]
  },
  {
   "cell_type": "markdown",
   "id": "7246e6fb-76ed-46c6-b65f-8e04fcb4eb0e",
   "metadata": {},
   "source": [
    "For the other null hypothesis ($H_{0}$: There is no difference in growth between Luxuriant and Placebo), @tbl-ttest also shows a significant p-value of close to zero. "
   ]
  },
  {
   "cell_type": "raw",
   "id": "c39fbf0e-4a8c-4563-a84e-60d6c8ce74d9",
   "metadata": {},
   "source": [
    "::: {layout-ncol=2}"
   ]
  },
  {
   "cell_type": "code",
   "execution_count": 20,
   "id": "87b969fe-0778-4005-aec6-9da314591611",
   "metadata": {
    "execution": {
     "iopub.execute_input": "2023-11-17T07:57:33.067618Z",
     "iopub.status.busy": "2023-11-17T07:57:33.067203Z",
     "iopub.status.idle": "2023-11-17T07:57:33.083901Z",
     "shell.execute_reply": "2023-11-17T07:57:33.082531Z",
     "shell.execute_reply.started": "2023-11-17T07:57:33.067567Z"
    },
    "tags": []
   },
   "outputs": [],
   "source": [
    "# ANOVA test on ages for all brands\n",
    "\n",
    "# Perform ANOVA test on age columns\n",
    "anova_age = f_oneway(df[\"AgeLuxuriant\"], df[\"AgePlacebo\"], df[\"AgeBaldBeGone\"], df[\"AgeHairyGoodness\"])\n",
    "\n",
    "# Convert into a list object\n",
    "anova_age = list(anova_age)\n",
    "\n",
    "# Add \"Age\" label\n",
    "anova_age.insert(0, \"Age\")"
   ]
  },
  {
   "cell_type": "code",
   "execution_count": 21,
   "id": "6ff0651f-c237-48e7-8113-8eafb0f234f6",
   "metadata": {
    "execution": {
     "iopub.execute_input": "2023-11-17T07:57:33.085631Z",
     "iopub.status.busy": "2023-11-17T07:57:33.085250Z",
     "iopub.status.idle": "2023-11-17T07:57:33.102710Z",
     "shell.execute_reply": "2023-11-17T07:57:33.101301Z",
     "shell.execute_reply.started": "2023-11-17T07:57:33.085592Z"
    },
    "tags": []
   },
   "outputs": [],
   "source": [
    "# ANOVA test on hair growth for all brands\n",
    "\n",
    "# Perform ANOVA test on growth columns\n",
    "anova_growth = f_oneway(df[\"Luxuriant\"], df[\"Placebo\"], df[\"BaldBeGone\"], df[\"HairyGoodness\"])\n",
    "\n",
    "# Convert into a list object\n",
    "anova_growth = list(anova_growth)\n",
    "\n",
    "# Add \"Age\" label\n",
    "anova_growth.insert(0, \"Growth\")"
   ]
  },
  {
   "cell_type": "code",
   "execution_count": 22,
   "id": "ec52d63c-9fa2-4d67-8f31-86b6d9287ace",
   "metadata": {
    "execution": {
     "iopub.execute_input": "2023-11-17T07:57:33.111043Z",
     "iopub.status.busy": "2023-11-17T07:57:33.110630Z",
     "iopub.status.idle": "2023-11-17T07:57:33.127707Z",
     "shell.execute_reply": "2023-11-17T07:57:33.126382Z",
     "shell.execute_reply.started": "2023-11-17T07:57:33.111001Z"
    },
    "tags": []
   },
   "outputs": [
    {
     "data": {
      "text/html": [
       "<style type=\"text/css\">\n",
       "</style>\n",
       "<table id=\"T_f45ed\">\n",
       "  <caption>ANOVA Results for Age and Growth \n",
       "for All Brands</caption>\n",
       "  <thead>\n",
       "    <tr>\n",
       "      <th class=\"blank level0\" >&nbsp;</th>\n",
       "      <th id=\"T_f45ed_level0_col0\" class=\"col_heading level0 col0\" >Statistic</th>\n",
       "      <th id=\"T_f45ed_level0_col1\" class=\"col_heading level0 col1\" >P-Value</th>\n",
       "    </tr>\n",
       "    <tr>\n",
       "      <th class=\"index_name level0\" >Test Variable</th>\n",
       "      <th class=\"blank col0\" >&nbsp;</th>\n",
       "      <th class=\"blank col1\" >&nbsp;</th>\n",
       "    </tr>\n",
       "  </thead>\n",
       "  <tbody>\n",
       "    <tr>\n",
       "      <th id=\"T_f45ed_level0_row0\" class=\"row_heading level0 row0\" >Age</th>\n",
       "      <td id=\"T_f45ed_row0_col0\" class=\"data row0 col0\" >0.730105</td>\n",
       "      <td id=\"T_f45ed_row0_col1\" class=\"data row0 col1\" >0.534507</td>\n",
       "    </tr>\n",
       "    <tr>\n",
       "      <th id=\"T_f45ed_level0_row1\" class=\"row_heading level0 row1\" >Growth</th>\n",
       "      <td id=\"T_f45ed_row1_col0\" class=\"data row1 col0\" >138.297504</td>\n",
       "      <td id=\"T_f45ed_row1_col1\" class=\"data row1 col1\" >0.000000</td>\n",
       "    </tr>\n",
       "  </tbody>\n",
       "</table>\n"
      ],
      "text/plain": [
       "<pandas.io.formats.style.Styler at 0x7f617c4a4820>"
      ]
     },
     "execution_count": 22,
     "metadata": {},
     "output_type": "execute_result"
    }
   ],
   "source": [
    "#| label: tbl-anova\n",
    "#| tbl-cap: \"ANOVA Results for All Brands\"\n",
    "\n",
    "# Set the table title\n",
    "title = \"ANOVA Results for Age and Growth \\nfor All Brands\"\n",
    "\n",
    "# Concatenate ANOVA age and growth data\n",
    "anova_data = [anova_age, anova_growth]\n",
    "\n",
    "# Convert to pandas dataframe, set the table column names and display the table\n",
    "anova_df = pd.DataFrame(anova_data, columns = [\"Test Variable\", \"Statistic\", \"P-Value\"]).set_index([\"Test Variable\"])\n",
    "anova_df.style.set_caption(title)"
   ]
  },
  {
   "cell_type": "code",
   "execution_count": 23,
   "id": "f3c48cdc-92eb-41ad-abae-ae3c4b207841",
   "metadata": {
    "execution": {
     "iopub.execute_input": "2023-11-17T07:57:33.130412Z",
     "iopub.status.busy": "2023-11-17T07:57:33.129385Z",
     "iopub.status.idle": "2023-11-17T07:57:33.147012Z",
     "shell.execute_reply": "2023-11-17T07:57:33.145563Z",
     "shell.execute_reply.started": "2023-11-17T07:57:33.130358Z"
    },
    "tags": []
   },
   "outputs": [],
   "source": [
    "# T-test on ages between Luxuriant and Placebo\n",
    "\n",
    "# Perform the t-test on age columns\n",
    "ttest_age = ttest_ind(df[\"AgeLuxuriant\"], df[\"AgePlacebo\"])\n",
    "\n",
    "# Convert to a list\n",
    "ttest_age = list(ttest_age)\n",
    "\n",
    "# Add a label\n",
    "ttest_age.insert(0, \"Age\")"
   ]
  },
  {
   "cell_type": "code",
   "execution_count": 24,
   "id": "9a39b2e6-08ba-4c96-b204-7d36ed93d06c",
   "metadata": {
    "execution": {
     "iopub.execute_input": "2023-11-17T07:57:33.148982Z",
     "iopub.status.busy": "2023-11-17T07:57:33.148577Z",
     "iopub.status.idle": "2023-11-17T07:57:33.166943Z",
     "shell.execute_reply": "2023-11-17T07:57:33.165788Z",
     "shell.execute_reply.started": "2023-11-17T07:57:33.148942Z"
    },
    "tags": []
   },
   "outputs": [],
   "source": [
    "# T-test on hair growth between Luxuriant and Placebo\n",
    "\n",
    "# Perform the t-test on growth columns\n",
    "ttest_growth = ttest_ind(df[\"Luxuriant\"], df[\"Placebo\"])\n",
    "\n",
    "# Convert to a list\n",
    "ttest_growth = list(ttest_growth)\n",
    "\n",
    "# Add a label\n",
    "ttest_growth.insert(0, \"Growth\")"
   ]
  },
  {
   "cell_type": "code",
   "execution_count": 25,
   "id": "24a4721d-bf56-4c78-a7b0-ef39aa747411",
   "metadata": {
    "execution": {
     "iopub.execute_input": "2023-11-17T07:57:33.168863Z",
     "iopub.status.busy": "2023-11-17T07:57:33.168352Z",
     "iopub.status.idle": "2023-11-17T07:57:33.192640Z",
     "shell.execute_reply": "2023-11-17T07:57:33.191199Z",
     "shell.execute_reply.started": "2023-11-17T07:57:33.168821Z"
    },
    "tags": []
   },
   "outputs": [
    {
     "data": {
      "text/html": [
       "<style type=\"text/css\">\n",
       "</style>\n",
       "<table id=\"T_c39a5\">\n",
       "  <caption>T-Test Between Luxiriant and Placebo</caption>\n",
       "  <thead>\n",
       "    <tr>\n",
       "      <th class=\"blank level0\" >&nbsp;</th>\n",
       "      <th id=\"T_c39a5_level0_col0\" class=\"col_heading level0 col0\" >Statistic</th>\n",
       "      <th id=\"T_c39a5_level0_col1\" class=\"col_heading level0 col1\" >P-Value</th>\n",
       "    </tr>\n",
       "    <tr>\n",
       "      <th class=\"index_name level0\" >Test Variable</th>\n",
       "      <th class=\"blank col0\" >&nbsp;</th>\n",
       "      <th class=\"blank col1\" >&nbsp;</th>\n",
       "    </tr>\n",
       "  </thead>\n",
       "  <tbody>\n",
       "    <tr>\n",
       "      <th id=\"T_c39a5_level0_row0\" class=\"row_heading level0 row0\" >Age</th>\n",
       "      <td id=\"T_c39a5_row0_col0\" class=\"data row0 col0\" >-0.662467</td>\n",
       "      <td id=\"T_c39a5_row0_col1\" class=\"data row0 col1\" >0.508442</td>\n",
       "    </tr>\n",
       "    <tr>\n",
       "      <th id=\"T_c39a5_level0_row1\" class=\"row_heading level0 row1\" >Growth</th>\n",
       "      <td id=\"T_c39a5_row1_col0\" class=\"data row1 col0\" >13.307183</td>\n",
       "      <td id=\"T_c39a5_row1_col1\" class=\"data row1 col1\" >0.000000</td>\n",
       "    </tr>\n",
       "  </tbody>\n",
       "</table>\n"
      ],
      "text/plain": [
       "<pandas.io.formats.style.Styler at 0x7f5ff4553d90>"
      ]
     },
     "execution_count": 25,
     "metadata": {},
     "output_type": "execute_result"
    }
   ],
   "source": [
    "#| label: tbl-ttest\n",
    "#| tbl-cap: \"T-Test Between Luxuriant and Placebo\"\n",
    "\n",
    "# Set the table title\n",
    "title = \"T-Test Between Luxiriant and Placebo\"\n",
    "\n",
    "# Concatenate the t-test for age and growth\n",
    "ttest_data = [ttest_age, ttest_growth]\n",
    "\n",
    "# Convert to pandas dataframe, set the table column names and display the table\n",
    "ttest_df = pd.DataFrame(ttest_data, columns = [\"Test Variable\", \"Statistic\", \"P-Value\"]).set_index([\"Test Variable\"])\n",
    "ttest_df.style.set_caption(title)"
   ]
  },
  {
   "cell_type": "raw",
   "id": "a19c25d3-5467-44e1-b237-b544ff6765fc",
   "metadata": {},
   "source": [
    ":::"
   ]
  },
  {
   "cell_type": "markdown",
   "id": "fed809f4-63d5-40db-b8a7-5d426f24e757",
   "metadata": {},
   "source": [
    "These results show that both null hypotheses can be rejected. Therefore, there is a significant difference in hair growth between groups, and between Luxuriant and Placebo."
   ]
  },
  {
   "cell_type": "code",
   "execution_count": 26,
   "id": "55091fd0-125f-4948-87f0-aa1992785448",
   "metadata": {
    "execution": {
     "iopub.execute_input": "2023-11-17T07:57:33.195385Z",
     "iopub.status.busy": "2023-11-17T07:57:33.194321Z",
     "iopub.status.idle": "2023-11-17T07:57:33.234241Z",
     "shell.execute_reply": "2023-11-17T07:57:33.232866Z",
     "shell.execute_reply.started": "2023-11-17T07:57:33.195331Z"
    },
    "tags": []
   },
   "outputs": [],
   "source": [
    "# Create an OLS model with growth as response variable, and age & brand as the predictors\n",
    "\n",
    "# Change \"Brand\" column to \"category\" type\n",
    "df2[\"Brand\"] = pd.Series(df2[\"Brand\"], dtype=\"category\")\n",
    "\n",
    "# Describe the model\n",
    "sm_lm = smf.ols(formula=\"Growth ~ Age + Brand\", data=df2)\n",
    "\n",
    "# fit the model\n",
    "sm_lm_fit = sm_lm.fit()\n",
    "\n",
    "# Get the summary\n",
    "sm_lm_summary = sm_lm_fit.summary2()\n",
    "\n",
    "# See appendix section for the summary table"
   ]
  },
  {
   "cell_type": "markdown",
   "id": "4684d01c-e691-4b62-aceb-aa019b3d1529",
   "metadata": {
    "execution": {
     "iopub.execute_input": "2023-11-13T20:47:36.422903Z",
     "iopub.status.busy": "2023-11-13T20:47:36.422281Z",
     "iopub.status.idle": "2023-11-13T20:47:36.439906Z",
     "shell.execute_reply": "2023-11-13T20:47:36.437957Z",
     "shell.execute_reply.started": "2023-11-13T20:47:36.422848Z"
    },
    "tags": []
   },
   "source": [
    "The OLS linear model can be described as:\n",
    "\n",
    "$$\n",
    "\\hat{Growth} = 39.89 + Brand -0.07Age\n",
    "$${#eq-ols-model}\n",
    "\n",
    "The resulting p-value for age (@tbl-ols) is non-significant. This implies that age is not a determining factor in hair growth."
   ]
  },
  {
   "cell_type": "code",
   "execution_count": 27,
   "id": "e9f2344f-4caa-4232-aeb2-a29295229027",
   "metadata": {
    "execution": {
     "iopub.execute_input": "2023-11-17T07:57:33.236876Z",
     "iopub.status.busy": "2023-11-17T07:57:33.235796Z",
     "iopub.status.idle": "2023-11-17T07:57:33.242433Z",
     "shell.execute_reply": "2023-11-17T07:57:33.241143Z",
     "shell.execute_reply.started": "2023-11-17T07:57:33.236834Z"
    },
    "tags": []
   },
   "outputs": [],
   "source": [
    "# Conduct Shapiro–Wilk test\n",
    "shapiro_result = shapiro(sm_lm_fit.resid)\n",
    "#shapiro_pval = shapiro_result[1]\n",
    "\n",
    "# Uncomment to view the shapiro p-value\n",
    "# print(shapiro_result)"
   ]
  },
  {
   "cell_type": "markdown",
   "id": "a4792e71-5044-4d8a-88b8-8d1afd332635",
   "metadata": {},
   "source": [
    "Moreover, the model's adjusted R-squared value is only 0.5. There are further evidence of non-normality; the residuals plot (@fig-hist-residuals) looks non-normally distributed, and the QQ Plot (@fig-qqplot) shows skewed data. The Shapiro-Wilk test also yields W=0.91 and p-value=9.93e-15, confirming non-normal distribution (Navarro, 2015)."
   ]
  },
  {
   "cell_type": "markdown",
   "id": "9a71821c-84a9-4a8b-baf2-766bc7dbb57e",
   "metadata": {},
   "source": [
    "Although the model is underpredicting, it can still be used to illustrate growth by brand. @tbl-predictions shows that Placebo has the least growth while BaldBeGone has the highest, with Luxuriant in the middle."
   ]
  },
  {
   "cell_type": "code",
   "execution_count": 28,
   "id": "5356de7b-9524-4bcc-b3a9-f82d11aa5e47",
   "metadata": {
    "execution": {
     "iopub.execute_input": "2023-11-17T07:57:33.244383Z",
     "iopub.status.busy": "2023-11-17T07:57:33.243869Z",
     "iopub.status.idle": "2023-11-17T07:57:33.270401Z",
     "shell.execute_reply": "2023-11-17T07:57:33.268972Z",
     "shell.execute_reply.started": "2023-11-17T07:57:33.244340Z"
    },
    "tags": []
   },
   "outputs": [],
   "source": [
    "# Predict hair growth when age=50\n",
    "\n",
    "# Create the dataframe\n",
    "dfPred = pd.DataFrame(np.zeros((4,2)), columns=[\"Brand\", \"Age\"])\n",
    "\n",
    "# add the data\n",
    "dfPred.iloc[0:] = [\"Luxuriant\", 50]\n",
    "dfPred.iloc[1:] = [\"Placebo\", 50]\n",
    "dfPred.iloc[2:] = [\"BaldBeGone\", 50]\n",
    "dfPred.iloc[3:] = [\"HairyGoodness\", 50]\n",
    "\n",
    "#predict the growth\n",
    "predictions = sm_lm_fit.predict(dfPred)"
   ]
  },
  {
   "cell_type": "code",
   "execution_count": 29,
   "id": "2944d17b-a60a-43df-9b3e-317405af9120",
   "metadata": {
    "execution": {
     "iopub.execute_input": "2023-11-17T07:57:33.272921Z",
     "iopub.status.busy": "2023-11-17T07:57:33.272060Z",
     "iopub.status.idle": "2023-11-17T07:57:33.296878Z",
     "shell.execute_reply": "2023-11-17T07:57:33.295424Z",
     "shell.execute_reply.started": "2023-11-17T07:57:33.272873Z"
    },
    "tags": []
   },
   "outputs": [
    {
     "data": {
      "text/html": [
       "<style type=\"text/css\">\n",
       "</style>\n",
       "<table id=\"T_5bb51\">\n",
       "  <caption>Predicted Growth For Age=50</caption>\n",
       "  <thead>\n",
       "    <tr>\n",
       "      <th class=\"blank level0\" >&nbsp;</th>\n",
       "      <th id=\"T_5bb51_level0_col0\" class=\"col_heading level0 col0\" >Brand</th>\n",
       "      <th id=\"T_5bb51_level0_col1\" class=\"col_heading level0 col1\" >Predicted Growth</th>\n",
       "    </tr>\n",
       "  </thead>\n",
       "  <tbody>\n",
       "    <tr>\n",
       "      <th id=\"T_5bb51_level0_row0\" class=\"row_heading level0 row0\" >0</th>\n",
       "      <td id=\"T_5bb51_row0_col0\" class=\"data row0 col0\" >Luxuriant</td>\n",
       "      <td id=\"T_5bb51_row0_col1\" class=\"data row0 col1\" >13.02</td>\n",
       "    </tr>\n",
       "    <tr>\n",
       "      <th id=\"T_5bb51_level0_row1\" class=\"row_heading level0 row1\" >1</th>\n",
       "      <td id=\"T_5bb51_row1_col0\" class=\"data row1 col0\" >Placebo</td>\n",
       "      <td id=\"T_5bb51_row1_col1\" class=\"data row1 col1\" >2.56</td>\n",
       "    </tr>\n",
       "    <tr>\n",
       "      <th id=\"T_5bb51_level0_row2\" class=\"row_heading level0 row2\" >2</th>\n",
       "      <td id=\"T_5bb51_row2_col0\" class=\"data row2 col0\" >BaldBeGone</td>\n",
       "      <td id=\"T_5bb51_row2_col1\" class=\"data row2 col1\" >36.22</td>\n",
       "    </tr>\n",
       "    <tr>\n",
       "      <th id=\"T_5bb51_level0_row3\" class=\"row_heading level0 row3\" >3</th>\n",
       "      <td id=\"T_5bb51_row3_col0\" class=\"data row3 col0\" >HairyGoodness</td>\n",
       "      <td id=\"T_5bb51_row3_col1\" class=\"data row3 col1\" >18.72</td>\n",
       "    </tr>\n",
       "  </tbody>\n",
       "</table>\n"
      ],
      "text/plain": [
       "<pandas.io.formats.style.Styler at 0x7f5fea353ee0>"
      ]
     },
     "execution_count": 29,
     "metadata": {},
     "output_type": "execute_result"
    }
   ],
   "source": [
    "#| label: tbl-predictions\n",
    "#| tbl-cap: \"Predicted Growth For Age=50\"\n",
    "\n",
    "# Display the dataframe for predicted growth\n",
    "\n",
    "title = \"Predicted Growth For Age=50\"\n",
    "\n",
    "# Convert the prediction results into a pandas dataframe\n",
    "PredResults = pd.DataFrame({\"Brand\": [\"Luxuriant\", \"Placebo\", \"BaldBeGone\", \"HairyGoodness\"],\n",
    "        \"Predicted Growth\": predictions.round(2).apply(str)})\n",
    "PredResults.style.set_caption(title)"
   ]
  },
  {
   "cell_type": "raw",
   "id": "a6368e8d-caca-4429-bb29-e9e10e62a68b",
   "metadata": {},
   "source": [
    "\\clearpage"
   ]
  },
  {
   "cell_type": "markdown",
   "id": "6dd64939-7218-4f04-a640-9254608631d7",
   "metadata": {},
   "source": [
    "# Conclusion and Recommendation\n",
    "\n",
    "The analysis shows that Luxuriant has a significant growth effect over the Placebo by 10.51mm (13.0mm for Luxuriant versus 2.49mm for Placebo). However, Luxuriant is less effective than BaldBeGone and HairyGoodness which average 36.15mm and 18.74mm respectively. Age was not found to be a relevant effect.\n",
    "\n",
    "While Luxuriant's performance is not as large as the existing brands, it still has a significant effect over the Placebo. It can therefore be released with the tested claim that it improves hair growth regardless of age.\n",
    "\n",
    "To improve clinical trials, there should be separate test phases (Hulley et al., 2013); one phase for testing against the Placebo (phase 2), another to test against existing hair treatments (phase 3), and an optional study after Luxuriant's introduction to the public (phase 4)."
   ]
  },
  {
   "cell_type": "markdown",
   "id": "502a1549-8eba-40ae-9117-cbcd8b2d066c",
   "metadata": {},
   "source": [
    "# References\n",
    "Heumann, C., Schomaker, M., &amp; Shalabh. (2022). *Introduction to statistics and Data Analysis: With exercises, solutions and applications in R* (Second Edition). Springer International. \n",
    "\n",
    "Hulley, S. B., Cummings, S. R., Browner, W. B., Grady, D. G., &amp; Newman, T. B. (2013). *Designing Clinical Research* (Fourth edition). Lippincott, Williams &amp; Wilkins. \n",
    "\n",
    "McKinney, W. (2022). *Python for Data Analysis. Python for Data Analysis*, Third Edition. https://wesmckinney.com/book/ \n",
    "\n",
    "Navarro, D. (2015). *Learning statistics with R: A tutorial for psychology students and other beginners*. Open Textbook Library. https://open.umn.edu/opentextbooks/textbooks/559 \n",
    "\n",
    "*Seaborn User Guide and Tutorial*. User guide and tutorial - seaborn 0.13.0 documentation. (2023). https://seaborn.pydata.org/tutorial.html \n",
    "\n",
    "*SciPy Documentation*. SciPy documentation - SciPy v1.11.3 Manual. (2023, September 27). https://docs.scipy.org/doc/scipy/ \n"
   ]
  },
  {
   "cell_type": "raw",
   "id": "4c88f777-479a-40ab-8430-adc08303832d",
   "metadata": {
    "execution": {
     "iopub.execute_input": "2023-11-15T17:43:32.957174Z",
     "iopub.status.busy": "2023-11-15T17:43:32.956611Z",
     "iopub.status.idle": "2023-11-15T17:43:32.968106Z",
     "shell.execute_reply": "2023-11-15T17:43:32.966898Z",
     "shell.execute_reply.started": "2023-11-15T17:43:32.957151Z"
    }
   },
   "source": [
    "\\clearpage"
   ]
  },
  {
   "cell_type": "markdown",
   "id": "d8bd493b-ebe3-4b5d-aafc-46c27f149ef6",
   "metadata": {},
   "source": [
    "# Appendix"
   ]
  },
  {
   "cell_type": "code",
   "execution_count": 30,
   "id": "56beba56-bb40-4485-b2de-5bf109b7381d",
   "metadata": {
    "execution": {
     "iopub.execute_input": "2023-11-17T07:57:33.299602Z",
     "iopub.status.busy": "2023-11-17T07:57:33.298514Z",
     "iopub.status.idle": "2023-11-17T07:57:33.314203Z",
     "shell.execute_reply": "2023-11-17T07:57:33.312895Z",
     "shell.execute_reply.started": "2023-11-17T07:57:33.299559Z"
    },
    "tags": []
   },
   "outputs": [],
   "source": [
    "# The following raw code will resize the output table to fit the width of the PDF"
   ]
  },
  {
   "cell_type": "raw",
   "id": "61114fa1-77dc-4787-b576-03941ed7c6f4",
   "metadata": {},
   "source": [
    "\\begingroup\n",
    "\\setlength{\\LTleft}{0pt minus 500pt}\n",
    "\\setlength{\\LTright}{0pt minus 500pt}\n",
    "\\fontsize{9pt}{10pt}\\selectfont\n",
    "\\addtolength{\\tabcolsep}{-3pt}"
   ]
  },
  {
   "cell_type": "code",
   "execution_count": 31,
   "id": "79288355-95e7-46e6-9a04-379593e25477",
   "metadata": {
    "execution": {
     "iopub.execute_input": "2023-11-17T07:57:33.316566Z",
     "iopub.status.busy": "2023-11-17T07:57:33.315784Z",
     "iopub.status.idle": "2023-11-17T07:57:33.339133Z",
     "shell.execute_reply": "2023-11-17T07:57:33.337771Z",
     "shell.execute_reply.started": "2023-11-17T07:57:33.316523Z"
    },
    "tags": []
   },
   "outputs": [
    {
     "data": {
      "text/html": [
       "<style type=\"text/css\">\n",
       "</style>\n",
       "<table id=\"T_0ebe9\">\n",
       "  <caption>Head of Data Frame with Converted Growth and Age Figures</caption>\n",
       "  <thead>\n",
       "    <tr>\n",
       "      <th class=\"blank level0\" >&nbsp;</th>\n",
       "      <th id=\"T_0ebe9_level0_col0\" class=\"col_heading level0 col0\" >Luxuriant</th>\n",
       "      <th id=\"T_0ebe9_level0_col1\" class=\"col_heading level0 col1\" >Placebo</th>\n",
       "      <th id=\"T_0ebe9_level0_col2\" class=\"col_heading level0 col2\" >BaldBeGone</th>\n",
       "      <th id=\"T_0ebe9_level0_col3\" class=\"col_heading level0 col3\" >HairyGoodness</th>\n",
       "      <th id=\"T_0ebe9_level0_col4\" class=\"col_heading level0 col4\" >AgeLuxuriant</th>\n",
       "      <th id=\"T_0ebe9_level0_col5\" class=\"col_heading level0 col5\" >AgePlacebo</th>\n",
       "      <th id=\"T_0ebe9_level0_col6\" class=\"col_heading level0 col6\" >AgeBaldBeGone</th>\n",
       "      <th id=\"T_0ebe9_level0_col7\" class=\"col_heading level0 col7\" >AgeHairyGoodness</th>\n",
       "    </tr>\n",
       "  </thead>\n",
       "  <tbody>\n",
       "    <tr>\n",
       "      <th id=\"T_0ebe9_level0_row0\" class=\"row_heading level0 row0\" >0</th>\n",
       "      <td id=\"T_0ebe9_row0_col0\" class=\"data row0 col0\" >20.122736</td>\n",
       "      <td id=\"T_0ebe9_row0_col1\" class=\"data row0 col1\" >2.047563</td>\n",
       "      <td id=\"T_0ebe9_row0_col2\" class=\"data row0 col2\" >7.125638</td>\n",
       "      <td id=\"T_0ebe9_row0_col3\" class=\"data row0 col3\" >13.230100</td>\n",
       "      <td id=\"T_0ebe9_row0_col4\" class=\"data row0 col4\" >59</td>\n",
       "      <td id=\"T_0ebe9_row0_col5\" class=\"data row0 col5\" >44</td>\n",
       "      <td id=\"T_0ebe9_row0_col6\" class=\"data row0 col6\" >51</td>\n",
       "      <td id=\"T_0ebe9_row0_col7\" class=\"data row0 col7\" >51</td>\n",
       "    </tr>\n",
       "    <tr>\n",
       "      <th id=\"T_0ebe9_level0_row1\" class=\"row_heading level0 row1\" >1</th>\n",
       "      <td id=\"T_0ebe9_row1_col0\" class=\"data row1 col0\" >15.377107</td>\n",
       "      <td id=\"T_0ebe9_row1_col1\" class=\"data row1 col1\" >0.957729</td>\n",
       "      <td id=\"T_0ebe9_row1_col2\" class=\"data row1 col2\" >57.176273</td>\n",
       "      <td id=\"T_0ebe9_row1_col3\" class=\"data row1 col3\" >10.711428</td>\n",
       "      <td id=\"T_0ebe9_row1_col4\" class=\"data row1 col4\" >61</td>\n",
       "      <td id=\"T_0ebe9_row1_col5\" class=\"data row1 col5\" >53</td>\n",
       "      <td id=\"T_0ebe9_row1_col6\" class=\"data row1 col6\" >52</td>\n",
       "      <td id=\"T_0ebe9_row1_col7\" class=\"data row1 col7\" >52</td>\n",
       "    </tr>\n",
       "    <tr>\n",
       "      <th id=\"T_0ebe9_level0_row2\" class=\"row_heading level0 row2\" >2</th>\n",
       "      <td id=\"T_0ebe9_row2_col0\" class=\"data row2 col0\" >17.638841</td>\n",
       "      <td id=\"T_0ebe9_row2_col1\" class=\"data row2 col1\" >2.467823</td>\n",
       "      <td id=\"T_0ebe9_row2_col2\" class=\"data row2 col2\" >36.108605</td>\n",
       "      <td id=\"T_0ebe9_row2_col3\" class=\"data row2 col3\" >46.497552</td>\n",
       "      <td id=\"T_0ebe9_row2_col4\" class=\"data row2 col4\" >54</td>\n",
       "      <td id=\"T_0ebe9_row2_col5\" class=\"data row2 col5\" >48</td>\n",
       "      <td id=\"T_0ebe9_row2_col6\" class=\"data row2 col6\" >66</td>\n",
       "      <td id=\"T_0ebe9_row2_col7\" class=\"data row2 col7\" >52</td>\n",
       "    </tr>\n",
       "    <tr>\n",
       "      <th id=\"T_0ebe9_level0_row3\" class=\"row_heading level0 row3\" >3</th>\n",
       "      <td id=\"T_0ebe9_row3_col0\" class=\"data row3 col0\" >1.379751</td>\n",
       "      <td id=\"T_0ebe9_row3_col1\" class=\"data row3 col1\" >5.521011</td>\n",
       "      <td id=\"T_0ebe9_row3_col2\" class=\"data row3 col2\" >17.651599</td>\n",
       "      <td id=\"T_0ebe9_row3_col3\" class=\"data row3 col3\" >21.165904</td>\n",
       "      <td id=\"T_0ebe9_row3_col4\" class=\"data row3 col4\" >63</td>\n",
       "      <td id=\"T_0ebe9_row3_col5\" class=\"data row3 col5\" >46</td>\n",
       "      <td id=\"T_0ebe9_row3_col6\" class=\"data row3 col6\" >46</td>\n",
       "      <td id=\"T_0ebe9_row3_col7\" class=\"data row3 col7\" >54</td>\n",
       "    </tr>\n",
       "    <tr>\n",
       "      <th id=\"T_0ebe9_level0_row4\" class=\"row_heading level0 row4\" >4</th>\n",
       "      <td id=\"T_0ebe9_row4_col0\" class=\"data row4 col0\" >37.558535</td>\n",
       "      <td id=\"T_0ebe9_row4_col1\" class=\"data row4 col1\" >4.992816</td>\n",
       "      <td id=\"T_0ebe9_row4_col2\" class=\"data row4 col2\" >19.100094</td>\n",
       "      <td id=\"T_0ebe9_row4_col3\" class=\"data row4 col3\" >7.640771</td>\n",
       "      <td id=\"T_0ebe9_row4_col4\" class=\"data row4 col4\" >50</td>\n",
       "      <td id=\"T_0ebe9_row4_col5\" class=\"data row4 col5\" >57</td>\n",
       "      <td id=\"T_0ebe9_row4_col6\" class=\"data row4 col6\" >61</td>\n",
       "      <td id=\"T_0ebe9_row4_col7\" class=\"data row4 col7\" >40</td>\n",
       "    </tr>\n",
       "  </tbody>\n",
       "</table>\n"
      ],
      "text/plain": [
       "<pandas.io.formats.style.Styler at 0x7f5fea3736a0>"
      ]
     },
     "execution_count": 31,
     "metadata": {},
     "output_type": "execute_result"
    }
   ],
   "source": [
    "#| label: tbl-converted-figures\n",
    "#| tbl-cap: \"Head of Dataframe with Converted Figures\"\n",
    "\n",
    "# Set the table title\n",
    "title = \"Head of Data Frame with Converted Growth and Age Figures\"\n",
    "\n",
    "df_head.style.set_caption(title)"
   ]
  },
  {
   "cell_type": "code",
   "execution_count": 32,
   "id": "2adf4913-1e5c-42b2-a044-483bc5be2560",
   "metadata": {
    "execution": {
     "iopub.execute_input": "2023-11-17T07:57:33.341716Z",
     "iopub.status.busy": "2023-11-17T07:57:33.340618Z",
     "iopub.status.idle": "2023-11-17T07:57:33.352231Z",
     "shell.execute_reply": "2023-11-17T07:57:33.350808Z",
     "shell.execute_reply.started": "2023-11-17T07:57:33.341674Z"
    }
   },
   "outputs": [],
   "source": [
    "# The following chunk reverts the font changes from the table"
   ]
  },
  {
   "cell_type": "raw",
   "id": "22b18ba1-c1ae-4e2d-b821-05cf86b695a2",
   "metadata": {},
   "source": [
    "\\endgroup"
   ]
  },
  {
   "cell_type": "code",
   "execution_count": 33,
   "id": "674bd72a-22fa-427a-8193-149580e199a0",
   "metadata": {
    "execution": {
     "iopub.execute_input": "2023-11-17T07:57:33.354334Z",
     "iopub.status.busy": "2023-11-17T07:57:33.353841Z",
     "iopub.status.idle": "2023-11-17T07:57:35.012306Z",
     "shell.execute_reply": "2023-11-17T07:57:35.011249Z",
     "shell.execute_reply.started": "2023-11-17T07:57:33.354284Z"
    },
    "tags": []
   },
   "outputs": [
    {
     "data": {
      "image/png": "[encoded data removed]",
      "text/plain": [
       "<Figure size 600x600 with 4 Axes>"
      ]
     },
     "metadata": {},
     "output_type": "display_data"
    }
   ],
   "source": [
    "#| label: fig-hist-age\n",
    "#| fig-cap: \"Histograms of participants' age by brand, showing fairly similar distributions\"\n",
    "\n",
    "# Set the plot title\n",
    "title = \"Histograms of Participants' Age by Brand\"\n",
    "\n",
    "# Create the plots\n",
    "g = sns.FacetGrid(df2,\n",
    "                  col = \"Brand\",\n",
    "                  hue=\"Brand\",\n",
    "                  col_wrap=2)\n",
    "\n",
    "# Render the plots\n",
    "growth_histograms = g.map_dataframe(sns.histplot, \n",
    "                                    x=\"Age\")"
   ]
  },
  {
   "cell_type": "code",
   "execution_count": 34,
   "id": "87df9683-3384-4151-9b17-79d5a474aa82",
   "metadata": {
    "execution": {
     "iopub.execute_input": "2023-11-17T07:57:35.013636Z",
     "iopub.status.busy": "2023-11-17T07:57:35.013425Z",
     "iopub.status.idle": "2023-11-17T07:57:36.554949Z",
     "shell.execute_reply": "2023-11-17T07:57:36.553779Z",
     "shell.execute_reply.started": "2023-11-17T07:57:35.013614Z"
    },
    "tags": []
   },
   "outputs": [
    {
     "data": {
      "image/png": "[encoded data removed]",
      "text/plain": [
       "<Figure size 600x600 with 4 Axes>"
      ]
     },
     "metadata": {},
     "output_type": "display_data"
    }
   ],
   "source": [
    "#| label: fig-hist-growth\n",
    "#| fig-cap: \"Histograms of hair growth by brand, showing signficantly varying distributions\"\n",
    "\n",
    "# Set the plot title\n",
    "title = \"Histograms of Participants' Growth by Brand\"\n",
    "\n",
    "# Create the plots\n",
    "g = sns.FacetGrid(df2,\n",
    "                  col = \"Brand\",\n",
    "                  hue=\"Brand\",\n",
    "                  col_wrap=2)\n",
    "\n",
    "# Render the plots\n",
    "growth_histograms = g.map_dataframe(sns.histplot, \n",
    "                                    x=\"Growth\")"
   ]
  },
  {
   "cell_type": "raw",
   "id": "ddb2825f-c88b-46b5-8639-07f39384b7a9",
   "metadata": {},
   "source": [
    "\\clearpage"
   ]
  },
  {
   "cell_type": "code",
   "execution_count": 35,
   "id": "6d6a839c-13be-488a-baa6-9786f01a99b6",
   "metadata": {
    "execution": {
     "iopub.execute_input": "2023-11-17T07:57:36.556607Z",
     "iopub.status.busy": "2023-11-17T07:57:36.556249Z",
     "iopub.status.idle": "2023-11-17T07:57:36.594334Z",
     "shell.execute_reply": "2023-11-17T07:57:36.593546Z",
     "shell.execute_reply.started": "2023-11-17T07:57:36.556581Z"
    },
    "tags": []
   },
   "outputs": [
    {
     "data": {
      "text/html": [
       "<table class=\"simpletable\">\n",
       "<tr>\n",
       "        <td>Model:</td>               <td>OLS</td>         <td>Adj. R-squared:</td>     <td>0.508</td>  \n",
       "</tr>\n",
       "<tr>\n",
       "  <td>Dependent Variable:</td>      <td>Growth</td>             <td>AIC:</td>         <td>3126.7791</td>\n",
       "</tr>\n",
       "<tr>\n",
       "         <td>Date:</td>        <td>2023-11-17 07:57</td>        <td>BIC:</td>         <td>3146.7365</td>\n",
       "</tr>\n",
       "<tr>\n",
       "   <td>No. Observations:</td>         <td>400</td>         <td>Log-Likelihood:</td>    <td>-1558.4</td> \n",
       "</tr>\n",
       "<tr>\n",
       "       <td>Df Model:</td>              <td>4</td>           <td>F-statistic:</td>       <td>103.8</td>  \n",
       "</tr>\n",
       "<tr>\n",
       "     <td>Df Residuals:</td>           <td>395</td>       <td>Prob (F-statistic):</td> <td>2.41e-60</td> \n",
       "</tr>\n",
       "<tr>\n",
       "      <td>R-squared:</td>            <td>0.513</td>            <td>Scale:</td>         <td>143.55</td>  \n",
       "</tr>\n",
       "</table>\n",
       "<table class=\"simpletable\">\n",
       "<tr>\n",
       "             <td></td>              <th>Coef.</th>  <th>Std.Err.</th>     <th>t</th>     <th>P>|t|</th>  <th>[0.025</th>   <th>0.975]</th> \n",
       "</tr>\n",
       "<tr>\n",
       "  <th>Intercept</th>               <td>39.8905</td>  <td>4.6262</td>   <td>8.6228</td>  <td>0.0000</td>  <td>30.7956</td>  <td>48.9855</td>\n",
       "</tr>\n",
       "<tr>\n",
       "  <th>Brand[T.HairyGoodness]</th> <td>-17.5001</td>  <td>1.6976</td>  <td>-10.3085</td> <td>0.0000</td> <td>-20.8377</td> <td>-14.1626</td>\n",
       "</tr>\n",
       "<tr>\n",
       "  <th>Brand[T.Luxuriant]</th>     <td>-23.1996</td>  <td>1.6953</td>  <td>-13.6846</td> <td>0.0000</td> <td>-26.5326</td> <td>-19.8667</td>\n",
       "</tr>\n",
       "<tr>\n",
       "  <th>Brand[T.Placebo]</th>       <td>-33.6649</td>  <td>1.6944</td>  <td>-19.8686</td> <td>0.0000</td> <td>-36.9960</td> <td>-30.3337</td>\n",
       "</tr>\n",
       "<tr>\n",
       "  <th>Age</th>                     <td>-0.0734</td>  <td>0.0877</td>   <td>-0.8366</td> <td>0.4033</td>  <td>-0.2459</td>  <td>0.0991</td> \n",
       "</tr>\n",
       "</table>\n",
       "<table class=\"simpletable\">\n",
       "<tr>\n",
       "     <td>Omnibus:</td>    <td>111.514</td>  <td>Durbin-Watson:</td>    <td>1.977</td> \n",
       "</tr>\n",
       "<tr>\n",
       "  <td>Prob(Omnibus):</td>  <td>0.000</td>  <td>Jarque-Bera (JB):</td> <td>495.130</td>\n",
       "</tr>\n",
       "<tr>\n",
       "       <td>Skew:</td>      <td>1.137</td>      <td>Prob(JB):</td>      <td>0.000</td> \n",
       "</tr>\n",
       "<tr>\n",
       "     <td>Kurtosis:</td>    <td>7.953</td>   <td>Condition No.:</td>     <td>398</td>  \n",
       "</tr>\n",
       "</table><br/>\n",
       "Notes:<br/>\n",
       "[1] Standard Errors assume that the covariance matrix of the errors is correctly specified."
      ],
      "text/latex": [
       "\\begin{table}\n",
       "\\caption{Results: Ordinary least squares}\n",
       "\\label{}\n",
       "\\begin{center}\n",
       "\\begin{tabular}{llll}\n",
       "\\hline\n",
       "Model:              & OLS              & Adj. R-squared:     & 0.508      \\\\\n",
       "Dependent Variable: & Growth           & AIC:                & 3126.7791  \\\\\n",
       "Date:               & 2023-11-17 07:57 & BIC:                & 3146.7365  \\\\\n",
       "No. Observations:   & 400              & Log-Likelihood:     & -1558.4    \\\\\n",
       "Df Model:           & 4                & F-statistic:        & 103.8      \\\\\n",
       "Df Residuals:       & 395              & Prob (F-statistic): & 2.41e-60   \\\\\n",
       "R-squared:          & 0.513            & Scale:              & 143.55     \\\\\n",
       "\\hline\n",
       "\\end{tabular}\n",
       "\\end{center}\n",
       "\n",
       "\\begin{center}\n",
       "\\begin{tabular}{lrrrrrr}\n",
       "\\hline\n",
       "                       &    Coef. & Std.Err. &        t & P$> |$t$|$ &   [0.025 &   0.975]  \\\\\n",
       "\\hline\n",
       "Intercept              &  39.8905 &   4.6262 &   8.6228 &      0.0000 &  30.7956 &  48.9855  \\\\\n",
       "Brand[T.HairyGoodness] & -17.5001 &   1.6976 & -10.3085 &      0.0000 & -20.8377 & -14.1626  \\\\\n",
       "Brand[T.Luxuriant]     & -23.1996 &   1.6953 & -13.6846 &      0.0000 & -26.5326 & -19.8667  \\\\\n",
       "Brand[T.Placebo]       & -33.6649 &   1.6944 & -19.8686 &      0.0000 & -36.9960 & -30.3337  \\\\\n",
       "Age                    &  -0.0734 &   0.0877 &  -0.8366 &      0.4033 &  -0.2459 &   0.0991  \\\\\n",
       "\\hline\n",
       "\\end{tabular}\n",
       "\\end{center}\n",
       "\n",
       "\\begin{center}\n",
       "\\begin{tabular}{llll}\n",
       "\\hline\n",
       "Omnibus:       & 111.514 & Durbin-Watson:    & 1.977    \\\\\n",
       "Prob(Omnibus): & 0.000   & Jarque-Bera (JB): & 495.130  \\\\\n",
       "Skew:          & 1.137   & Prob(JB):         & 0.000    \\\\\n",
       "Kurtosis:      & 7.953   & Condition No.:    & 398      \\\\\n",
       "\\hline\n",
       "\\end{tabular}\n",
       "\\end{center}\n",
       "\\end{table}\n",
       "\\bigskip\n",
       "Notes: \\newline \n",
       "[1] Standard Errors assume that the covariance matrix of the errors is correctly specified."
      ],
      "text/plain": [
       "<class 'statsmodels.iolib.summary2.Summary'>\n",
       "\"\"\"\n",
       "                     Results: Ordinary least squares\n",
       "==========================================================================\n",
       "Model:                  OLS                Adj. R-squared:       0.508    \n",
       "Dependent Variable:     Growth             AIC:                  3126.7791\n",
       "Date:                   2023-11-17 07:57   BIC:                  3146.7365\n",
       "No. Observations:       400                Log-Likelihood:       -1558.4  \n",
       "Df Model:               4                  F-statistic:          103.8    \n",
       "Df Residuals:           395                Prob (F-statistic):   2.41e-60 \n",
       "R-squared:              0.513              Scale:                143.55   \n",
       "--------------------------------------------------------------------------\n",
       "                        Coef.   Std.Err.    t     P>|t|   [0.025   0.975] \n",
       "--------------------------------------------------------------------------\n",
       "Intercept               39.8905   4.6262   8.6228 0.0000  30.7956  48.9855\n",
       "Brand[T.HairyGoodness] -17.5001   1.6976 -10.3085 0.0000 -20.8377 -14.1626\n",
       "Brand[T.Luxuriant]     -23.1996   1.6953 -13.6846 0.0000 -26.5326 -19.8667\n",
       "Brand[T.Placebo]       -33.6649   1.6944 -19.8686 0.0000 -36.9960 -30.3337\n",
       "Age                     -0.0734   0.0877  -0.8366 0.4033  -0.2459   0.0991\n",
       "--------------------------------------------------------------------------\n",
       "Omnibus:                 111.514         Durbin-Watson:            1.977  \n",
       "Prob(Omnibus):           0.000           Jarque-Bera (JB):         495.130\n",
       "Skew:                    1.137           Prob(JB):                 0.000  \n",
       "Kurtosis:                7.953           Condition No.:            398    \n",
       "==========================================================================\n",
       "Notes:\n",
       "[1] Standard Errors assume that the covariance matrix of the errors is\n",
       "correctly specified.\n",
       "\"\"\""
      ]
     },
     "execution_count": 35,
     "metadata": {},
     "output_type": "execute_result"
    }
   ],
   "source": [
    "#| label: tbl-ols\n",
    "#| tbl-cap: \"OLS Summary Table showing the Adj R-squared value and Age p-value\"\n",
    "\n",
    "sm_lm_summary"
   ]
  },
  {
   "cell_type": "raw",
   "id": "3948c0c8-cf9e-4e8d-a1de-42d6ccb28204",
   "metadata": {},
   "source": [
    "\\clearpage"
   ]
  },
  {
   "cell_type": "code",
   "execution_count": 36,
   "id": "ac71e344-0417-44fa-8861-e62f29a28c7c",
   "metadata": {
    "execution": {
     "iopub.execute_input": "2023-11-17T07:57:36.595312Z",
     "iopub.status.busy": "2023-11-17T07:57:36.595101Z",
     "iopub.status.idle": "2023-11-17T07:57:36.892829Z",
     "shell.execute_reply": "2023-11-17T07:57:36.891878Z",
     "shell.execute_reply.started": "2023-11-17T07:57:36.595290Z"
    },
    "tags": []
   },
   "outputs": [
    {
     "data": {
      "image/png": "[encoded data removed]",
      "text/plain": [
       "<Figure size 700x300 with 1 Axes>"
      ]
     },
     "metadata": {},
     "output_type": "display_data"
    }
   ],
   "source": [
    "#| label: fig-hist-residuals\n",
    "#| fig-cap: \"Histograms of OLS model residuals showing non-normal distribution\"\n",
    "\n",
    "# Resize the plots\n",
    "sns.set(rc={\"figure.figsize\":(7, 3)}) \n",
    "\n",
    "# Create and render the plot\n",
    "resplot = sns.histplot(sm_lm_fit.resid.head())"
   ]
  },
  {
   "cell_type": "code",
   "execution_count": 37,
   "id": "397acdeb-b504-437c-9bc1-fe8116ec8e6f",
   "metadata": {
    "execution": {
     "iopub.execute_input": "2023-11-17T07:57:36.894086Z",
     "iopub.status.busy": "2023-11-17T07:57:36.893858Z",
     "iopub.status.idle": "2023-11-17T07:57:37.124145Z",
     "shell.execute_reply": "2023-11-17T07:57:37.123220Z",
     "shell.execute_reply.started": "2023-11-17T07:57:36.894063Z"
    },
    "tags": []
   },
   "outputs": [
    {
     "data": {
      "image/png": "[encoded data removed]",
      "text/plain": [
       "<Figure size 700x300 with 1 Axes>"
      ]
     },
     "metadata": {},
     "output_type": "display_data"
    }
   ],
   "source": [
    "#| label: fig-qqplot\n",
    "#| fig-cap: \"QQ Plot showing slightly downward skewed data\"\n",
    "\n",
    "# QQ Plot\n",
    "# Set the plot title\n",
    "title = \"Figure 7: QQ Plot\"\n",
    "\n",
    "# Create and render the plot\n",
    "qq_plot = qqplot(sm_lm_fit.resid)"
   ]
  },
  {
   "cell_type": "raw",
   "id": "6f9ed4f3-7959-4efa-a785-8ea553ad8cb6",
   "metadata": {},
   "source": [
    "\\clearpage"
   ]
  },
  {
   "cell_type": "code",
   "execution_count": 38,
   "id": "5a0f65f1-9c1d-4155-8f28-0361ac187fe7",
   "metadata": {
    "execution": {
     "iopub.execute_input": "2023-11-17T07:57:37.125201Z",
     "iopub.status.busy": "2023-11-17T07:57:37.124991Z",
     "iopub.status.idle": "2023-11-17T07:57:37.516801Z",
     "shell.execute_reply": "2023-11-17T07:57:37.515843Z",
     "shell.execute_reply.started": "2023-11-17T07:57:37.125180Z"
    },
    "tags": []
   },
   "outputs": [
    {
     "data": {
      "image/png": "[encoded data removed]",
      "text/plain": [
       "<Figure size 700x700 with 1 Axes>"
      ]
     },
     "metadata": {},
     "output_type": "display_data"
    }
   ],
   "source": [
    "#| label: fig-res-vs-fitted\n",
    "#| fig-cap: \"Residuals vs Fitted Values showing dense points in the lower residual values\"\n",
    "\n",
    "# Residuals vs Fitted Values Plot\n",
    "\n",
    "# Resize this plot (and all plots moving forward)\n",
    "sns.set(rc={\"figure.figsize\":(7, 7)}) \n",
    "\n",
    "# Set the plot title\n",
    "title = \"Residuals vs Fitted Values\"\n",
    "res_vs_fit_plot = sns.scatterplot(x=sm_lm_fit.fittedvalues,\n",
    "                                y=sm_lm_fit.resid)"
   ]
  },
  {
   "cell_type": "code",
   "execution_count": 39,
   "id": "00ca81f1-c817-437c-9679-37afad1ed260",
   "metadata": {
    "execution": {
     "iopub.execute_input": "2023-11-17T07:57:37.517973Z",
     "iopub.status.busy": "2023-11-17T07:57:37.517752Z",
     "iopub.status.idle": "2023-11-17T07:57:37.521939Z",
     "shell.execute_reply": "2023-11-17T07:57:37.521068Z",
     "shell.execute_reply.started": "2023-11-17T07:57:37.517951Z"
    },
    "tags": []
   },
   "outputs": [],
   "source": [
    "# The following Tukey's HSD was not included in the final report\n",
    "\n",
    "#| label: tukey-hsd-age\n",
    "#| fig-cap: \"Tukey's HSD for Age shows shows non-significant p-values, and confirms age is the same for all groups.\"\n",
    "\n",
    "# from scipy.stats import tukey_hsd\n",
    "# age_tukey = tukey_hsd(df[\"AgeLuxuriant\"], df[\"AgePlacebo\"], df[\"AgeBaldBeGone\"], df[\"AgeHairyGoodness\"])\n",
    "# print(age_tukey)"
   ]
  },
  {
   "cell_type": "code",
   "execution_count": 40,
   "id": "85293d01-8a0e-49c8-8d71-8243e5ea9f15",
   "metadata": {
    "execution": {
     "iopub.execute_input": "2023-11-17T07:57:37.523132Z",
     "iopub.status.busy": "2023-11-17T07:57:37.522885Z",
     "iopub.status.idle": "2023-11-17T07:57:37.539053Z",
     "shell.execute_reply": "2023-11-17T07:57:37.538173Z",
     "shell.execute_reply.started": "2023-11-17T07:57:37.523111Z"
    },
    "tags": []
   },
   "outputs": [],
   "source": [
    "#| label: tukey-hsd-growth\n",
    "#| fig-cap: \"Tukey's HSD for Growth shows shows significant p-values, confirming growth is different between all groups.\"\n",
    "\n",
    "# growth_tukey = tukey_hsd (df[\"Luxuriant\"], df[\"Placebo\"], df[\"BaldBeGone\"], df[\"HairyGoodness\"])\n",
    "# print(growth_tukey)"
   ]
  }
 ],
 "metadata": {
  "kernelspec": {
   "display_name": "Python 3 (ipykernel)",
   "language": "python",
   "name": "python3"
  },
  "language_info": {
   "codemirror_mode": {
    "name": "ipython",
    "version": 3
   },
   "file_extension": ".py",
   "mimetype": "text/x-python",
   "name": "python",
   "nbconvert_exporter": "python",
   "pygments_lexer": "ipython3",
   "version": "3.10.10"
  }
 },
 "nbformat": 4,
 "nbformat_minor": 5
}
